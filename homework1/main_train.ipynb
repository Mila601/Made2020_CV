{
 "cells": [
  {
   "cell_type": "markdown",
   "metadata": {
    "colab_type": "text",
    "id": "KjYxjTBEnjzR"
   },
   "source": [
    " **Что я сделала/помогло**:\n",
    "\n",
    " 1) Использовала предобученную модель resnext50_32x4d из torch\n",
    "\n",
    " 2) Размер входных изображений приводила к размеру 256, вместо 128\n",
    "\n",
    " 3) Использовала усреднение моделей, но к сожалению, успела обучить только 2 модели (в сумме охватывали всю трейновую выборку), а в идеале хотела бы 5 моделей (так как размер валидационной выборки 20%), которые обучаются на 80% выборки, но на разных частях, таким образом, чтобы валидационные части  этих моделей не пересекались. \n",
    "\n",
    " 4) Каждые 2 эпохи я сохраняла модели и выбирала learning_rate, основываясь на результатах предыдущих\n",
    "\n",
    " 5) Не забыла, что нужно усреднять не итоговые файлы для отправки моделей, которые уже округлены, а усреднять результаты до округления.\n",
    "\n",
    " **Комментарии**:\n",
    " \n",
    " Не успела дообучить даже вторую модель, так как дедлайн был очень близок \n",
    "\n",
    " Пробовала lr_sheduler, но удобнее показалось вручную выбрать learning_rate, эпох всего было 7 . В итоге получилось, что каждые 2 эпохи я уменьшала learning_rate примерно в 2 раза\n"
   ]
  },
  {
   "cell_type": "code",
   "execution_count": 0,
   "metadata": {
    "colab": {},
    "colab_type": "code",
    "collapsed": true,
    "id": "_B4yPL10bmSH"
   },
   "outputs": [],
   "source": [
    "import matplotlib.pyplot as plt\n",
    "import numpy as np\n",
    "import pickle\n",
    "import cv2\n",
    "import os\n",
    "import pandas as pd\n",
    "\n",
    "import torch\n",
    "import torch.nn as nn\n",
    "import torch.optim as optim\n",
    "import torchvision.models as models\n",
    "import tqdm\n",
    "from torch.nn import functional as fnn\n",
    "from torch.utils import data\n",
    "from torchvision import transforms\n",
    "\n",
    "from hack_utils import NUM_PTS, CROP_SIZE\n",
    "from hack_utils import ScaleMinSideToSize, CropCenter, TransformByKeys\n",
    "from hack_utils import ThousandLandmarksDataset\n",
    "from hack_utils import restore_landmarks_batch, create_submission_float"
   ]
  },
  {
   "cell_type": "code",
   "execution_count": 0,
   "metadata": {
    "colab": {},
    "colab_type": "code",
    "collapsed": true,
    "id": "UGhOstatb-pY"
   },
   "outputs": [],
   "source": [
    "np.random.seed(1234)\n",
    "GPU=True\n",
    "device = torch.device(\"cuda: 0\") if GPU else torch.device(\"cpu\")\n",
    "\n",
    "train_transforms = transforms.Compose([\n",
    "    ScaleMinSideToSize((CROP_SIZE, CROP_SIZE)),\n",
    "    CropCenter(CROP_SIZE),\n",
    "    TransformByKeys(transforms.ToPILImage(), (\"image\",)),\n",
    "    TransformByKeys(transforms.ToTensor(), (\"image\",)),\n",
    "    TransformByKeys(transforms.Normalize(mean=[0.5, 0.5, 0.5], std=[0.5, 0.5, 0.5]), (\"image\",)),\n",
    "])"
   ]
  },
  {
   "cell_type": "code",
   "execution_count": 0,
   "metadata": {
    "colab": {},
    "colab_type": "code",
    "collapsed": true,
    "id": "ofVb7zPTejTU"
   },
   "outputs": [],
   "source": [
    "def train(model, loader, loss_fn, optimizer, device):\n",
    "    model.train()\n",
    "    train_loss = []\n",
    "    for batch in tqdm.tqdm(loader, total=len(loader), desc=\"training...\", position=0, leave=True):\n",
    "        images = batch[\"image\"].to(device)  # B x 3 x CROP_SIZE x CROP_SIZE\n",
    "        landmarks = batch[\"landmarks\"]  # B x (2 * NUM_PTS)\n",
    "\n",
    "        pred_landmarks = model(images).cpu()  # B x (2 * NUM_PTS)\n",
    "        loss = loss_fn(pred_landmarks, landmarks, reduction=\"mean\")\n",
    "        train_loss.append(loss.item())\n",
    "\n",
    "        optimizer.zero_grad()\n",
    "        loss.backward()\n",
    "        optimizer.step()\n",
    "\n",
    "    return np.mean(train_loss)\n",
    "\n",
    "\n",
    "def validate(model, loader, loss_fn, device):\n",
    "    model.eval()\n",
    "    val_loss = []\n",
    "    for batch in tqdm.tqdm(loader, total=len(loader), desc=\"validation...\", position=0, leave=True):\n",
    "        images = batch[\"image\"].to(device)\n",
    "        landmarks = batch[\"landmarks\"]\n",
    "\n",
    "        with torch.no_grad():\n",
    "            pred_landmarks = model(images).cpu()\n",
    "        loss = loss_fn(pred_landmarks, landmarks, reduction=\"mean\")\n",
    "        val_loss.append(loss.item())\n",
    "\n",
    "    return np.mean(val_loss)\n",
    "\n",
    "\n",
    "def predict(model, loader, device):\n",
    "    model.eval()\n",
    "    predictions = np.zeros((len(loader.dataset), NUM_PTS, 2))\n",
    "    for i, batch in enumerate(tqdm.tqdm(loader, total=len(loader), desc=\"test prediction...\", position=0, leave=True)):\n",
    "        images = batch[\"image\"].to(device)\n",
    "\n",
    "        with torch.no_grad():\n",
    "            pred_landmarks = model(images).cpu()\n",
    "        pred_landmarks = pred_landmarks.numpy().reshape((len(pred_landmarks), NUM_PTS, 2))  # B x NUM_PTS x 2\n",
    "\n",
    "        fs = batch[\"scale_coef\"].numpy()  # B\n",
    "        margins_x = batch[\"crop_margin_x\"].numpy()  # B\n",
    "        margins_y = batch[\"crop_margin_y\"].numpy()  # B\n",
    "        prediction = restore_landmarks_batch(pred_landmarks, fs, margins_x, margins_y)  # B x NUM_PTS x 2\n",
    "        predictions[i * loader.batch_size: (i + 1) * loader.batch_size] = prediction\n",
    "\n",
    "    return predictions"
   ]
  },
  {
   "cell_type": "markdown",
   "metadata": {
    "colab_type": "text",
    "id": "Xz7JkllW4ZZ_"
   },
   "source": [
    "# ***Train first model***"
   ]
  },
  {
   "cell_type": "code",
   "execution_count": 0,
   "metadata": {
    "colab": {
     "base_uri": "https://localhost:8080/",
     "height": 33
    },
    "colab_type": "code",
    "id": "aWBYrFb-Autp",
    "outputId": "8fff628f-27df-4849-bd0d-c14dd82a6c85"
   },
   "outputs": [
    {
     "name": "stderr",
     "output_type": "stream",
     "text": [
      "393931it [02:01, 3244.06it/s]\n"
     ]
    }
   ],
   "source": [
    "# Из всей выборки я беру первые 80% в обучение, остальное в валидационную выборку\n",
    "train_dataset = ThousandLandmarksDataset(os.path.join('data', 'train'), train_transforms, number_sample = 1, split=\"train\")\n",
    "train_dataloader = data.DataLoader(train_dataset, batch_size=32, num_workers=4, pin_memory=True,\n",
    "                                    shuffle=True, drop_last=True)\n",
    "val_dataset = ThousandLandmarksDataset(os.path.join('data', 'train'), train_transforms, number_sample = 1, split=\"val\")\n",
    "val_dataloader = data.DataLoader(val_dataset, batch_size=32, num_workers=4, pin_memory=True,\n",
    "                                  shuffle=False, drop_last=False)"
   ]
  },
  {
   "cell_type": "code",
   "execution_count": 0,
   "metadata": {
    "colab": {
     "base_uri": "https://localhost:8080/",
     "height": 102,
     "referenced_widgets": [
      "3eea6fe71a094a5e8e7f07dc3335d7d3",
      "2904a2fa9e2c4ee38fa1dbb35cfe3a4e",
      "3ac683b395044c47b27a9046f44fc11d",
      "95f89e81261d4e0090acb1603cd3b0ad",
      "2c91fe8d28554baa88d66dd5231c333b",
      "2281d7487bc54e6db271920bbdf7610b",
      "984a64d0a15c48cc891fe4370cc705d2",
      "c06cf693c0994e0ca72b4c76f0f4d25c"
     ]
    },
    "colab_type": "code",
    "id": "ie__8Blk4nBF",
    "outputId": "ae864ffe-807a-4965-a6ba-aee2f4da7074"
   },
   "outputs": [
    {
     "name": "stderr",
     "output_type": "stream",
     "text": [
      "Downloading: \"https://download.pytorch.org/models/resnext50_32x4d-7cdf4587.pth\" to /root/.cache/torch/checkpoints/resnext50_32x4d-7cdf4587.pth\n"
     ]
    },
    {
     "data": {
      "application/vnd.jupyter.widget-view+json": {
       "model_id": "3eea6fe71a094a5e8e7f07dc3335d7d3",
       "version_major": 2,
       "version_minor": 0
      },
      "text/plain": [
       "HBox(children=(FloatProgress(value=0.0, max=100441675.0), HTML(value='')))"
      ]
     },
     "metadata": {
      "tags": []
     },
     "output_type": "display_data"
    },
    {
     "name": "stdout",
     "output_type": "stream",
     "text": [
      "\n"
     ]
    }
   ],
   "source": [
    "model = models.resnext50_32x4d(pretrained=True)\n",
    "model.fc = nn.Linear(model.fc.in_features, 2 * NUM_PTS, bias=True)\n",
    "model.to(device)\n",
    "\n",
    "loss_fn = fnn.mse_loss\n",
    "best_val_loss = np.inf"
   ]
  },
  {
   "cell_type": "code",
   "execution_count": 0,
   "metadata": {
    "colab": {
     "base_uri": "https://localhost:8080/",
     "height": 134
    },
    "colab_type": "code",
    "id": "A7ymlwMQ4d-Q",
    "outputId": "e66b440b-6d31-483c-854b-2493e2b50466"
   },
   "outputs": [
    {
     "name": "stderr",
     "output_type": "stream",
     "text": [
      "\r",
      "training...:   0%|          | 0/9848 [00:00<?, ?it/s]"
     ]
    },
    {
     "name": "stdout",
     "output_type": "stream",
     "text": [
      "Ready for training...\n"
     ]
    },
    {
     "name": "stderr",
     "output_type": "stream",
     "text": [
      "training...: 100%|██████████| 9848/9848 [1:22:11<00:00,  2.00it/s]\n",
      "validation...: 100%|██████████| 2463/2463 [05:38<00:00,  7.29it/s]\n",
      "training...:   0%|          | 0/9848 [00:00<?, ?it/s]"
     ]
    },
    {
     "name": "stdout",
     "output_type": "stream",
     "text": [
      "Epoch # 0:\ttrain loss: 8.7e+01 \tval loss: 1.1e+01\n"
     ]
    },
    {
     "name": "stderr",
     "output_type": "stream",
     "text": [
      "training...: 100%|██████████| 9848/9848 [1:22:11<00:00,  2.00it/s]\n",
      "validation...: 100%|██████████| 2463/2463 [05:37<00:00,  7.31it/s]\n"
     ]
    },
    {
     "name": "stdout",
     "output_type": "stream",
     "text": [
      "Epoch # 1:\ttrain loss: 1.1e+01 \tval loss:   9.4\n"
     ]
    }
   ],
   "source": [
    "optimizer = optim.Adam(model.parameters(), lr=0.001, amsgrad=True)\n",
    "for epoch in range(2):\n",
    "    train_loss = train(model, train_dataloader, loss_fn, optimizer, device=device)\n",
    "    val_loss = validate(model, val_dataloader, loss_fn, device=device)\n",
    "    print(\"Epoch #{:2}:\\ttrain loss: {:5.2} \\tval loss: {:5.2}\".format(epoch, train_loss, val_loss))\n",
    "    if val_loss < best_val_loss:\n",
    "        best_val_loss = val_loss\n",
    "        with open(f\"resnext_crop_0905_2epoch.pth\", \"wb\") as fp:\n",
    "            torch.save(model.state_dict(), fp)"
   ]
  },
  {
   "cell_type": "code",
   "execution_count": 0,
   "metadata": {
    "colab": {
     "base_uri": "https://localhost:8080/",
     "height": 134
    },
    "colab_type": "code",
    "id": "SG7LmLsY9ezb",
    "outputId": "ebd29f9a-0ef9-43ed-d00a-0562373c52ad"
   },
   "outputs": [
    {
     "name": "stderr",
     "output_type": "stream",
     "text": [
      "\r",
      "training...:   0%|          | 0/9848 [00:00<?, ?it/s]"
     ]
    },
    {
     "name": "stdout",
     "output_type": "stream",
     "text": [
      "Ready for training...\n"
     ]
    },
    {
     "name": "stderr",
     "output_type": "stream",
     "text": [
      "training...: 100%|██████████| 9848/9848 [1:22:10<00:00,  2.00it/s]\n",
      "validation...: 100%|██████████| 2463/2463 [05:38<00:00,  7.28it/s]\n",
      "training...:   0%|          | 0/9848 [00:00<?, ?it/s]"
     ]
    },
    {
     "name": "stdout",
     "output_type": "stream",
     "text": [
      "Epoch # 0:\ttrain loss:   9.0 \tval loss:   7.7\n"
     ]
    },
    {
     "name": "stderr",
     "output_type": "stream",
     "text": [
      "training...: 100%|██████████| 9848/9848 [1:22:10<00:00,  2.00it/s]\n",
      "validation...: 100%|██████████| 2463/2463 [05:37<00:00,  7.31it/s]\n"
     ]
    },
    {
     "name": "stdout",
     "output_type": "stream",
     "text": [
      "Epoch # 1:\ttrain loss:   7.6 \tval loss:   6.9\n"
     ]
    }
   ],
   "source": [
    "optimizer = optim.Adam(model.parameters(), lr=0.0005, amsgrad=True)\n",
    "for epoch in range(2):\n",
    "    train_loss = train(model, train_dataloader, loss_fn, optimizer, device=device)\n",
    "    val_loss = validate(model, val_dataloader, loss_fn, device=device)\n",
    "    print(\"Epoch #{:2}:\\ttrain loss: {:5.2} \\tval loss: {:5.2}\".format(epoch, train_loss, val_loss))\n",
    "    if val_loss < best_val_loss:\n",
    "        best_val_loss = val_loss\n",
    "        with open(f\"resnext_crop_0905_4epoch.pth\", \"wb\") as fp:\n",
    "            torch.save(model.state_dict(), fp)"
   ]
  },
  {
   "cell_type": "code",
   "execution_count": 0,
   "metadata": {
    "colab": {
     "base_uri": "https://localhost:8080/",
     "height": 134
    },
    "colab_type": "code",
    "id": "Bz5SqJ5X-mcO",
    "outputId": "9bf8318b-c291-4eab-99a0-8282ecfcd42d"
   },
   "outputs": [
    {
     "name": "stderr",
     "output_type": "stream",
     "text": [
      "\r",
      "training...:   0%|          | 0/9848 [00:00<?, ?it/s]"
     ]
    },
    {
     "name": "stdout",
     "output_type": "stream",
     "text": [
      "Ready for training...\n"
     ]
    },
    {
     "name": "stderr",
     "output_type": "stream",
     "text": [
      "training...: 100%|██████████| 9848/9848 [1:22:14<00:00,  2.00it/s]\n",
      "validation...: 100%|██████████| 2463/2463 [05:37<00:00,  7.29it/s]\n",
      "training...:   0%|          | 0/9848 [00:00<?, ?it/s]"
     ]
    },
    {
     "name": "stdout",
     "output_type": "stream",
     "text": [
      "Epoch # 0:\ttrain loss:   6.6 \tval loss:   6.6\n"
     ]
    },
    {
     "name": "stderr",
     "output_type": "stream",
     "text": [
      "training...: 100%|██████████| 9848/9848 [1:22:06<00:00,  2.00it/s]\n",
      "validation...: 100%|██████████| 2463/2463 [05:37<00:00,  7.31it/s]\n"
     ]
    },
    {
     "name": "stdout",
     "output_type": "stream",
     "text": [
      "Epoch # 1:\ttrain loss:   6.0 \tval loss:   6.3\n"
     ]
    }
   ],
   "source": [
    "optimizer = optim.Adam(model.parameters(), lr=0.0003, amsgrad=True)\n",
    "for epoch in range(2):\n",
    "    train_loss = train(model, train_dataloader, loss_fn, optimizer, device=device)\n",
    "    val_loss = validate(model, val_dataloader, loss_fn, device=device)\n",
    "    print(\"Epoch #{:2}:\\ttrain loss: {:5.2} \\tval loss: {:5.2}\".format(epoch, train_loss, val_loss))\n",
    "    if val_loss < best_val_loss:\n",
    "        best_val_loss = val_loss\n",
    "        with open(f\"resnext_crop_0905_6epoch.pth\", \"wb\") as fp:\n",
    "            torch.save(model.state_dict(), fp)"
   ]
  },
  {
   "cell_type": "code",
   "execution_count": 0,
   "metadata": {
    "colab": {
     "base_uri": "https://localhost:8080/",
     "height": 154
    },
    "colab_type": "code",
    "id": "6mdXTuKOG0I5",
    "outputId": "ecb3a75e-e36d-430c-fd3d-adcf28bc6635"
   },
   "outputs": [
    {
     "name": "stderr",
     "output_type": "stream",
     "text": [
      "\r",
      "training...:   0%|          | 0/9848 [00:00<?, ?it/s]"
     ]
    },
    {
     "name": "stdout",
     "output_type": "stream",
     "text": [
      "Ready for training...\n"
     ]
    },
    {
     "name": "stderr",
     "output_type": "stream",
     "text": [
      "training...: 100%|██████████| 9848/9848 [1:22:05<00:00,  2.00it/s]\n",
      "validation...: 100%|██████████| 2463/2463 [05:36<00:00,  7.32it/s]\n",
      "training...:   0%|          | 0/9848 [00:00<?, ?it/s]"
     ]
    },
    {
     "name": "stdout",
     "output_type": "stream",
     "text": [
      "Epoch # 0:\ttrain loss:   5.1 \tval loss:   5.9\n"
     ]
    },
    {
     "name": "stderr",
     "output_type": "stream",
     "text": [
      "training...: 100%|██████████| 9848/9848 [1:22:06<00:00,  2.00it/s]\n",
      "validation...: 100%|██████████| 2463/2463 [05:38<00:00,  7.28it/s]"
     ]
    },
    {
     "name": "stdout",
     "output_type": "stream",
     "text": [
      "Epoch # 1:\ttrain loss:   4.8 \tval loss:   6.1\n"
     ]
    },
    {
     "name": "stderr",
     "output_type": "stream",
     "text": [
      "\n"
     ]
    }
   ],
   "source": [
    "optimizer = optim.Adam(model.parameters(), lr=0.0001, amsgrad=True)\n",
    "for epoch in range(2):\n",
    "    train_loss = train(model, train_dataloader, loss_fn, optimizer, device=device)\n",
    "    #train_loss2 = train(model, train_dataloader_flip, loss_fn, optimizer, device=device)\n",
    "    val_loss = validate(model, val_dataloader, loss_fn, device=device)\n",
    "    print(\"Epoch #{:2}:\\ttrain loss: {:5.2} \\tval loss: {:5.2}\".format(epoch, train_loss, val_loss))\n",
    "    if val_loss < best_val_loss:\n",
    "        best_val_loss = val_loss\n",
    "        with open(f\"resnext_crop_0905_8epoch.pth\", \"wb\") as fp:\n",
    "            torch.save(model.state_dict(), fp)"
   ]
  },
  {
   "cell_type": "code",
   "execution_count": 0,
   "metadata": {
    "colab": {
     "base_uri": "https://localhost:8080/",
     "height": 67
    },
    "colab_type": "code",
    "id": "lRyBpLFyC0rV",
    "outputId": "1b2a0615-1fb3-4598-d83c-a3d7edb7eddc"
   },
   "outputs": [
    {
     "name": "stderr",
     "output_type": "stream",
     "text": [
      "41209it [00:00, 412085.48it/s]"
     ]
    },
    {
     "name": "stdout",
     "output_type": "stream",
     "text": [
      "99819\n"
     ]
    },
    {
     "name": "stderr",
     "output_type": "stream",
     "text": [
      "99820it [00:00, 414275.00it/s]\n",
      "test prediction...: 100%|██████████| 1560/1560 [06:07<00:00,  4.25it/s]\n"
     ]
    }
   ],
   "source": [
    "test_dataset = ThousandLandmarksDataset(os.path.join('data', 'test'), train_transforms, split=\"test\")\n",
    "test_dataloader = data.DataLoader(test_dataset, batch_size=64, num_workers=4, pin_memory=True,\n",
    "                                  shuffle=False, drop_last=False)\n",
    "\n",
    "with open(f\"resnext_crop_0905_8epoch.pth\", \"rb\") as fp:\n",
    "    best_state_dict = torch.load(fp, map_location=\"cpu\")\n",
    "    model.load_state_dict(best_state_dict)\n",
    "\n",
    "test_predictions = predict(model, test_dataloader, device)\n",
    "with open(f\"resnext_crop_0905_test_predictions.pkl\", \"wb\") as fp:\n",
    "    pickle.dump({\"image_names\": test_dataset.image_names,\n",
    "                  \"landmarks\": test_predictions}, fp)\n",
    "\n",
    "create_submission_float('data', test_predictions, f\"resnext_crop_0905_8epoch_float.csv\")"
   ]
  },
  {
   "cell_type": "markdown",
   "metadata": {
    "colab_type": "text",
    "id": "TeARp6CFC0DE"
   },
   "source": [
    "# **Train second model**"
   ]
  },
  {
   "cell_type": "code",
   "execution_count": 0,
   "metadata": {
    "colab": {
     "base_uri": "https://localhost:8080/",
     "height": 50
    },
    "colab_type": "code",
    "id": "63kENQbqhlfc",
    "outputId": "ae0fb324-0441-4491-c61d-75b30904e9ab"
   },
   "outputs": [
    {
     "name": "stderr",
     "output_type": "stream",
     "text": [
      "393931it [08:37, 761.81it/s]\n",
      "78731it [03:27, 624.56it/s]"
     ]
    }
   ],
   "source": [
    "# Из всей выборки я беру первые 20% в валидацию, остальной в обучающую выборку\n",
    "train_dataset = ThousandLandmarksDataset(os.path.join('data', 'train'), train_transforms, number_sample = 2, split=\"train\")\n",
    "train_dataloader = data.DataLoader(train_dataset, batch_size=32, num_workers=4, pin_memory=True,\n",
    "                                    shuffle=True, drop_last=True)\n",
    "val_dataset = ThousandLandmarksDataset(os.path.join('data', 'train'), train_transforms, number_sample = 2, split=\"val\")\n",
    "val_dataloader = data.DataLoader(val_dataset, batch_size=32, num_workers=4, pin_memory=True,\n",
    "                                  shuffle=False, drop_last=False)"
   ]
  },
  {
   "cell_type": "code",
   "execution_count": 0,
   "metadata": {
    "colab": {},
    "colab_type": "code",
    "collapsed": true,
    "id": "q4HcG1H9hinA"
   },
   "outputs": [],
   "source": [
    "model = models.resnext50_32x4d(pretrained=True)\n",
    "model.fc = nn.Linear(model.fc.in_features, 2 * NUM_PTS, bias=True)\n",
    "model.to(device)\n",
    "\n",
    "loss_fn = fnn.mse_loss\n",
    "best_val_loss = np.inf"
   ]
  },
  {
   "cell_type": "code",
   "execution_count": 0,
   "metadata": {
    "colab": {
     "base_uri": "https://localhost:8080/",
     "height": 134
    },
    "colab_type": "code",
    "id": "WkdpXrhvhp5y",
    "outputId": "1b8f5bfe-72e5-413c-d468-3ca3ae6aa7f1"
   },
   "outputs": [
    {
     "name": "stderr",
     "output_type": "stream",
     "text": [
      "\r",
      "training...:   0%|          | 0/9848 [00:00<?, ?it/s]"
     ]
    },
    {
     "name": "stdout",
     "output_type": "stream",
     "text": [
      "Ready for training...\n"
     ]
    },
    {
     "name": "stderr",
     "output_type": "stream",
     "text": [
      "training...: 100%|██████████| 9848/9848 [1:22:10<00:00,  2.00it/s]\n",
      "validation...: 100%|██████████| 2463/2463 [05:35<00:00,  7.33it/s]\n",
      "training...:   0%|          | 0/9848 [00:00<?, ?it/s]"
     ]
    },
    {
     "name": "stdout",
     "output_type": "stream",
     "text": [
      "Epoch # 0:\ttrain loss: 1.9e+01 \tval loss: 1e+01\n"
     ]
    },
    {
     "name": "stderr",
     "output_type": "stream",
     "text": [
      "training...: 100%|██████████| 9848/9848 [1:22:13<00:00,  2.00it/s]\n",
      "validation...: 100%|██████████| 2463/2463 [05:35<00:00,  7.34it/s]\n"
     ]
    },
    {
     "name": "stdout",
     "output_type": "stream",
     "text": [
      "Epoch # 1:\ttrain loss:   9.5 \tval loss:   8.8\n"
     ]
    }
   ],
   "source": [
    "optimizer = optim.Adam(model.parameters(), lr=0.001, amsgrad=True)\n",
    "print(\"Ready for training...\")\n",
    "for epoch in range(2):\n",
    "    train_loss = train(model, train_dataloader, loss_fn, optimizer, device=device)\n",
    "    val_loss = validate(model, val_dataloader, loss_fn, device=device)\n",
    "    print(\"Epoch #{:2}:\\ttrain loss: {:5.2} \\tval loss: {:5.2}\".format(epoch, train_loss, val_loss))\n",
    "    if val_loss < best_val_loss:\n",
    "        best_val_loss = val_loss\n",
    "        with open(f\"resnext_crop_1105_2epoch_val.pth\", \"wb\") as fp:\n",
    "            torch.save(model.state_dict(), fp)"
   ]
  },
  {
   "cell_type": "code",
   "execution_count": 0,
   "metadata": {
    "colab": {
     "base_uri": "https://localhost:8080/",
     "height": 134
    },
    "colab_type": "code",
    "id": "7FKQrOn-iPtl",
    "outputId": "c8527a0a-9298-4175-f562-0027b52d6ae9"
   },
   "outputs": [
    {
     "name": "stderr",
     "output_type": "stream",
     "text": [
      "\r",
      "training...:   0%|          | 0/9848 [00:00<?, ?it/s]"
     ]
    },
    {
     "name": "stdout",
     "output_type": "stream",
     "text": [
      "Ready for training...\n"
     ]
    },
    {
     "name": "stderr",
     "output_type": "stream",
     "text": [
      "training...: 100%|██████████| 9848/9848 [1:22:25<00:00,  1.99it/s]\n",
      "validation...: 100%|██████████| 2463/2463 [05:38<00:00,  7.27it/s]\n",
      "training...:   0%|          | 0/9848 [00:00<?, ?it/s]"
     ]
    },
    {
     "name": "stdout",
     "output_type": "stream",
     "text": [
      "Epoch # 0:\ttrain loss:   8.1 \tval loss:   7.4\n"
     ]
    },
    {
     "name": "stderr",
     "output_type": "stream",
     "text": [
      "training...: 100%|██████████| 9848/9848 [1:22:15<00:00,  2.00it/s]\n",
      "validation...: 100%|██████████| 2463/2463 [05:38<00:00,  7.27it/s]\n"
     ]
    },
    {
     "name": "stdout",
     "output_type": "stream",
     "text": [
      "Epoch # 1:\ttrain loss:   7.0 \tval loss:   6.7\n"
     ]
    }
   ],
   "source": [
    "optimizer = optim.Adam(model.parameters(), lr=0.0005, amsgrad=True)\n",
    "for epoch in range(2):\n",
    "    train_loss = train(model, train_dataloader, loss_fn, optimizer, device=device)\n",
    "    val_loss = validate(model, val_dataloader, loss_fn, device=device)\n",
    "    print(\"Epoch #{:2}:\\ttrain loss: {:5.2} \\tval loss: {:5.2}\".format(epoch, train_loss, val_loss))\n",
    "    if val_loss < best_val_loss:\n",
    "        best_val_loss = val_loss\n",
    "        with open(f\"resnext_crop_1105_4epoch_val.pth\", \"wb\") as fp:\n",
    "            torch.save(model.state_dict(), fp)"
   ]
  },
  {
   "cell_type": "code",
   "execution_count": 0,
   "metadata": {
    "colab": {
     "base_uri": "https://localhost:8080/",
     "height": 134
    },
    "colab_type": "code",
    "id": "1PyGAL82jFsm",
    "outputId": "be270ce8-a3bf-4725-c352-c633f7720aef"
   },
   "outputs": [
    {
     "name": "stderr",
     "output_type": "stream",
     "text": [
      "\r",
      "training...:   0%|          | 0/9848 [00:00<?, ?it/s]"
     ]
    },
    {
     "name": "stdout",
     "output_type": "stream",
     "text": [
      "Ready for training...\n"
     ]
    },
    {
     "name": "stderr",
     "output_type": "stream",
     "text": [
      "training...: 100%|██████████| 9848/9848 [1:22:12<00:00,  2.00it/s]\n",
      "validation...: 100%|██████████| 2463/2463 [05:37<00:00,  7.29it/s]\n",
      "training...:   0%|          | 0/9848 [00:00<?, ?it/s]"
     ]
    },
    {
     "name": "stdout",
     "output_type": "stream",
     "text": [
      "Epoch # 0:\ttrain loss:   6.0 \tval loss:   6.3\n"
     ]
    },
    {
     "name": "stderr",
     "output_type": "stream",
     "text": [
      "training...: 100%|██████████| 9848/9848 [1:22:15<00:00,  2.00it/s]\n",
      "validation...: 100%|██████████| 2463/2463 [05:35<00:00,  7.33it/s]\n"
     ]
    },
    {
     "name": "stdout",
     "output_type": "stream",
     "text": [
      "Epoch # 1:\ttrain loss:   5.6 \tval loss:   6.2\n"
     ]
    }
   ],
   "source": [
    "optimizer = optim.Adam(model.parameters(), lr=0.0002, amsgrad=True)\n",
    "for epoch in range(2):\n",
    "    train_loss = train(model, train_dataloader, loss_fn, optimizer, device=device)\n",
    "    val_loss = validate(model, val_dataloader, loss_fn, device=device)\n",
    "    print(\"Epoch #{:2}:\\ttrain loss: {:5.2} \\tval loss: {:5.2}\".format(epoch, train_loss, val_loss))\n",
    "    if val_loss < best_val_loss:\n",
    "        best_val_loss = val_loss\n",
    "        with open(f\"resnext_crop_1105_6epoch_val.pth\", \"wb\") as fp:\n",
    "            torch.save(model.state_dict(), fp)"
   ]
  },
  {
   "cell_type": "code",
   "execution_count": 0,
   "metadata": {
    "colab": {
     "base_uri": "https://localhost:8080/",
     "height": 453
    },
    "colab_type": "code",
    "collapsed": true,
    "id": "ZMxA0Me73Pw9",
    "outputId": "087a013e-6b94-4e00-f94b-601c62ba2457"
   },
   "outputs": [
    {
     "name": "stderr",
     "output_type": "stream",
     "text": [
      "\r",
      "training...:   0%|          | 0/9848 [00:00<?, ?it/s]"
     ]
    },
    {
     "name": "stdout",
     "output_type": "stream",
     "text": [
      "Ready for training...\n"
     ]
    },
    {
     "name": "stderr",
     "output_type": "stream",
     "text": [
      "training...: 100%|██████████| 9848/9848 [1:22:01<00:00,  2.00it/s]\n",
      "validation...: 100%|██████████| 2463/2463 [05:34<00:00,  7.36it/s]\n",
      "training...:   0%|          | 0/9848 [00:00<?, ?it/s]"
     ]
    },
    {
     "name": "stdout",
     "output_type": "stream",
     "text": [
      "Epoch # 0:\ttrain loss:   4.9 \tval loss:   6.0\n"
     ]
    },
    {
     "name": "stderr",
     "output_type": "stream",
     "text": [
      "training...:   0%|          | 26/9848 [00:13<1:21:23,  2.01it/s]"
     ]
    },
    {
     "ename": "KeyboardInterrupt",
     "evalue": "ignored",
     "output_type": "error",
     "traceback": [
      "\u001b[0;31m---------------------------------------------------------------------------\u001b[0m",
      "\u001b[0;31mKeyboardInterrupt\u001b[0m                         Traceback (most recent call last)",
      "\u001b[0;32m<ipython-input-48-807f4ed26f78>\u001b[0m in \u001b[0;36m<module>\u001b[0;34m()\u001b[0m\n\u001b[1;32m      4\u001b[0m \u001b[0mbest_val_loss\u001b[0m \u001b[0;34m=\u001b[0m \u001b[0mnp\u001b[0m\u001b[0;34m.\u001b[0m\u001b[0minf\u001b[0m\u001b[0;34m\u001b[0m\u001b[0;34m\u001b[0m\u001b[0m\n\u001b[1;32m      5\u001b[0m \u001b[0;32mfor\u001b[0m \u001b[0mepoch\u001b[0m \u001b[0;32min\u001b[0m \u001b[0mrange\u001b[0m\u001b[0;34m(\u001b[0m\u001b[0;36m2\u001b[0m\u001b[0;34m)\u001b[0m\u001b[0;34m:\u001b[0m\u001b[0;34m\u001b[0m\u001b[0;34m\u001b[0m\u001b[0m\n\u001b[0;32m----> 6\u001b[0;31m     \u001b[0mtrain_loss\u001b[0m \u001b[0;34m=\u001b[0m \u001b[0mtrain\u001b[0m\u001b[0;34m(\u001b[0m\u001b[0mmodel\u001b[0m\u001b[0;34m,\u001b[0m \u001b[0mtrain_dataloader\u001b[0m\u001b[0;34m,\u001b[0m \u001b[0mloss_fn\u001b[0m\u001b[0;34m,\u001b[0m \u001b[0moptimizer\u001b[0m\u001b[0;34m,\u001b[0m \u001b[0mdevice\u001b[0m\u001b[0;34m=\u001b[0m\u001b[0mdevice\u001b[0m\u001b[0;34m)\u001b[0m\u001b[0;34m\u001b[0m\u001b[0;34m\u001b[0m\u001b[0m\n\u001b[0m\u001b[1;32m      7\u001b[0m     \u001b[0;31m#train_loss2 = train(model, train_dataloader_flip, loss_fn, optimizer, device=device)\u001b[0m\u001b[0;34m\u001b[0m\u001b[0;34m\u001b[0m\u001b[0;34m\u001b[0m\u001b[0m\n\u001b[1;32m      8\u001b[0m     \u001b[0mval_loss\u001b[0m \u001b[0;34m=\u001b[0m \u001b[0mvalidate\u001b[0m\u001b[0;34m(\u001b[0m\u001b[0mmodel\u001b[0m\u001b[0;34m,\u001b[0m \u001b[0mval_dataloader\u001b[0m\u001b[0;34m,\u001b[0m \u001b[0mloss_fn\u001b[0m\u001b[0;34m,\u001b[0m \u001b[0mdevice\u001b[0m\u001b[0;34m=\u001b[0m\u001b[0mdevice\u001b[0m\u001b[0;34m)\u001b[0m\u001b[0;34m\u001b[0m\u001b[0;34m\u001b[0m\u001b[0m\n",
      "\u001b[0;32m<ipython-input-26-44fe609dfab7>\u001b[0m in \u001b[0;36mtrain\u001b[0;34m(model, loader, loss_fn, optimizer, device)\u001b[0m\n\u001b[1;32m      7\u001b[0m         \u001b[0mlandmarks\u001b[0m \u001b[0;34m=\u001b[0m \u001b[0mbatch\u001b[0m\u001b[0;34m[\u001b[0m\u001b[0;34m\"landmarks\"\u001b[0m\u001b[0;34m]\u001b[0m  \u001b[0;31m# B x (2 * NUM_PTS)\u001b[0m\u001b[0;34m\u001b[0m\u001b[0;34m\u001b[0m\u001b[0m\n\u001b[1;32m      8\u001b[0m \u001b[0;34m\u001b[0m\u001b[0m\n\u001b[0;32m----> 9\u001b[0;31m         \u001b[0mpred_landmarks\u001b[0m \u001b[0;34m=\u001b[0m \u001b[0mmodel\u001b[0m\u001b[0;34m(\u001b[0m\u001b[0mimages\u001b[0m\u001b[0;34m)\u001b[0m\u001b[0;34m.\u001b[0m\u001b[0mcpu\u001b[0m\u001b[0;34m(\u001b[0m\u001b[0;34m)\u001b[0m  \u001b[0;31m# B x (2 * NUM_PTS)\u001b[0m\u001b[0;34m\u001b[0m\u001b[0;34m\u001b[0m\u001b[0m\n\u001b[0m\u001b[1;32m     10\u001b[0m         \u001b[0mloss\u001b[0m \u001b[0;34m=\u001b[0m \u001b[0mloss_fn\u001b[0m\u001b[0;34m(\u001b[0m\u001b[0mpred_landmarks\u001b[0m\u001b[0;34m,\u001b[0m \u001b[0mlandmarks\u001b[0m\u001b[0;34m,\u001b[0m \u001b[0mreduction\u001b[0m\u001b[0;34m=\u001b[0m\u001b[0;34m\"mean\"\u001b[0m\u001b[0;34m)\u001b[0m\u001b[0;34m\u001b[0m\u001b[0;34m\u001b[0m\u001b[0m\n\u001b[1;32m     11\u001b[0m         \u001b[0mtrain_loss\u001b[0m\u001b[0;34m.\u001b[0m\u001b[0mappend\u001b[0m\u001b[0;34m(\u001b[0m\u001b[0mloss\u001b[0m\u001b[0;34m.\u001b[0m\u001b[0mitem\u001b[0m\u001b[0;34m(\u001b[0m\u001b[0;34m)\u001b[0m\u001b[0;34m)\u001b[0m\u001b[0;34m\u001b[0m\u001b[0;34m\u001b[0m\u001b[0m\n",
      "\u001b[0;32m/usr/local/lib/python3.6/dist-packages/torch/nn/modules/module.py\u001b[0m in \u001b[0;36m__call__\u001b[0;34m(self, *input, **kwargs)\u001b[0m\n\u001b[1;32m    548\u001b[0m             \u001b[0mresult\u001b[0m \u001b[0;34m=\u001b[0m \u001b[0mself\u001b[0m\u001b[0;34m.\u001b[0m\u001b[0m_slow_forward\u001b[0m\u001b[0;34m(\u001b[0m\u001b[0;34m*\u001b[0m\u001b[0minput\u001b[0m\u001b[0;34m,\u001b[0m \u001b[0;34m**\u001b[0m\u001b[0mkwargs\u001b[0m\u001b[0;34m)\u001b[0m\u001b[0;34m\u001b[0m\u001b[0;34m\u001b[0m\u001b[0m\n\u001b[1;32m    549\u001b[0m         \u001b[0;32melse\u001b[0m\u001b[0;34m:\u001b[0m\u001b[0;34m\u001b[0m\u001b[0;34m\u001b[0m\u001b[0m\n\u001b[0;32m--> 550\u001b[0;31m             \u001b[0mresult\u001b[0m \u001b[0;34m=\u001b[0m \u001b[0mself\u001b[0m\u001b[0;34m.\u001b[0m\u001b[0mforward\u001b[0m\u001b[0;34m(\u001b[0m\u001b[0;34m*\u001b[0m\u001b[0minput\u001b[0m\u001b[0;34m,\u001b[0m \u001b[0;34m**\u001b[0m\u001b[0mkwargs\u001b[0m\u001b[0;34m)\u001b[0m\u001b[0;34m\u001b[0m\u001b[0;34m\u001b[0m\u001b[0m\n\u001b[0m\u001b[1;32m    551\u001b[0m         \u001b[0;32mfor\u001b[0m \u001b[0mhook\u001b[0m \u001b[0;32min\u001b[0m \u001b[0mself\u001b[0m\u001b[0;34m.\u001b[0m\u001b[0m_forward_hooks\u001b[0m\u001b[0;34m.\u001b[0m\u001b[0mvalues\u001b[0m\u001b[0;34m(\u001b[0m\u001b[0;34m)\u001b[0m\u001b[0;34m:\u001b[0m\u001b[0;34m\u001b[0m\u001b[0;34m\u001b[0m\u001b[0m\n\u001b[1;32m    552\u001b[0m             \u001b[0mhook_result\u001b[0m \u001b[0;34m=\u001b[0m \u001b[0mhook\u001b[0m\u001b[0;34m(\u001b[0m\u001b[0mself\u001b[0m\u001b[0;34m,\u001b[0m \u001b[0minput\u001b[0m\u001b[0;34m,\u001b[0m \u001b[0mresult\u001b[0m\u001b[0;34m)\u001b[0m\u001b[0;34m\u001b[0m\u001b[0;34m\u001b[0m\u001b[0m\n",
      "\u001b[0;32m/usr/local/lib/python3.6/dist-packages/torchvision/models/resnet.py\u001b[0m in \u001b[0;36mforward\u001b[0;34m(self, x)\u001b[0m\n\u001b[1;32m    218\u001b[0m \u001b[0;34m\u001b[0m\u001b[0m\n\u001b[1;32m    219\u001b[0m     \u001b[0;32mdef\u001b[0m \u001b[0mforward\u001b[0m\u001b[0;34m(\u001b[0m\u001b[0mself\u001b[0m\u001b[0;34m,\u001b[0m \u001b[0mx\u001b[0m\u001b[0;34m)\u001b[0m\u001b[0;34m:\u001b[0m\u001b[0;34m\u001b[0m\u001b[0;34m\u001b[0m\u001b[0m\n\u001b[0;32m--> 220\u001b[0;31m         \u001b[0;32mreturn\u001b[0m \u001b[0mself\u001b[0m\u001b[0;34m.\u001b[0m\u001b[0m_forward_impl\u001b[0m\u001b[0;34m(\u001b[0m\u001b[0mx\u001b[0m\u001b[0;34m)\u001b[0m\u001b[0;34m\u001b[0m\u001b[0;34m\u001b[0m\u001b[0m\n\u001b[0m\u001b[1;32m    221\u001b[0m \u001b[0;34m\u001b[0m\u001b[0m\n\u001b[1;32m    222\u001b[0m \u001b[0;34m\u001b[0m\u001b[0m\n",
      "\u001b[0;32m/usr/local/lib/python3.6/dist-packages/torchvision/models/resnet.py\u001b[0m in \u001b[0;36m_forward_impl\u001b[0;34m(self, x)\u001b[0m\n\u001b[1;32m    206\u001b[0m         \u001b[0mx\u001b[0m \u001b[0;34m=\u001b[0m \u001b[0mself\u001b[0m\u001b[0;34m.\u001b[0m\u001b[0mmaxpool\u001b[0m\u001b[0;34m(\u001b[0m\u001b[0mx\u001b[0m\u001b[0;34m)\u001b[0m\u001b[0;34m\u001b[0m\u001b[0;34m\u001b[0m\u001b[0m\n\u001b[1;32m    207\u001b[0m \u001b[0;34m\u001b[0m\u001b[0m\n\u001b[0;32m--> 208\u001b[0;31m         \u001b[0mx\u001b[0m \u001b[0;34m=\u001b[0m \u001b[0mself\u001b[0m\u001b[0;34m.\u001b[0m\u001b[0mlayer1\u001b[0m\u001b[0;34m(\u001b[0m\u001b[0mx\u001b[0m\u001b[0;34m)\u001b[0m\u001b[0;34m\u001b[0m\u001b[0;34m\u001b[0m\u001b[0m\n\u001b[0m\u001b[1;32m    209\u001b[0m         \u001b[0mx\u001b[0m \u001b[0;34m=\u001b[0m \u001b[0mself\u001b[0m\u001b[0;34m.\u001b[0m\u001b[0mlayer2\u001b[0m\u001b[0;34m(\u001b[0m\u001b[0mx\u001b[0m\u001b[0;34m)\u001b[0m\u001b[0;34m\u001b[0m\u001b[0;34m\u001b[0m\u001b[0m\n\u001b[1;32m    210\u001b[0m         \u001b[0mx\u001b[0m \u001b[0;34m=\u001b[0m \u001b[0mself\u001b[0m\u001b[0;34m.\u001b[0m\u001b[0mlayer3\u001b[0m\u001b[0;34m(\u001b[0m\u001b[0mx\u001b[0m\u001b[0;34m)\u001b[0m\u001b[0;34m\u001b[0m\u001b[0;34m\u001b[0m\u001b[0m\n",
      "\u001b[0;32m/usr/local/lib/python3.6/dist-packages/torch/nn/modules/module.py\u001b[0m in \u001b[0;36m__call__\u001b[0;34m(self, *input, **kwargs)\u001b[0m\n\u001b[1;32m    548\u001b[0m             \u001b[0mresult\u001b[0m \u001b[0;34m=\u001b[0m \u001b[0mself\u001b[0m\u001b[0;34m.\u001b[0m\u001b[0m_slow_forward\u001b[0m\u001b[0;34m(\u001b[0m\u001b[0;34m*\u001b[0m\u001b[0minput\u001b[0m\u001b[0;34m,\u001b[0m \u001b[0;34m**\u001b[0m\u001b[0mkwargs\u001b[0m\u001b[0;34m)\u001b[0m\u001b[0;34m\u001b[0m\u001b[0;34m\u001b[0m\u001b[0m\n\u001b[1;32m    549\u001b[0m         \u001b[0;32melse\u001b[0m\u001b[0;34m:\u001b[0m\u001b[0;34m\u001b[0m\u001b[0;34m\u001b[0m\u001b[0m\n\u001b[0;32m--> 550\u001b[0;31m             \u001b[0mresult\u001b[0m \u001b[0;34m=\u001b[0m \u001b[0mself\u001b[0m\u001b[0;34m.\u001b[0m\u001b[0mforward\u001b[0m\u001b[0;34m(\u001b[0m\u001b[0;34m*\u001b[0m\u001b[0minput\u001b[0m\u001b[0;34m,\u001b[0m \u001b[0;34m**\u001b[0m\u001b[0mkwargs\u001b[0m\u001b[0;34m)\u001b[0m\u001b[0;34m\u001b[0m\u001b[0;34m\u001b[0m\u001b[0m\n\u001b[0m\u001b[1;32m    551\u001b[0m         \u001b[0;32mfor\u001b[0m \u001b[0mhook\u001b[0m \u001b[0;32min\u001b[0m \u001b[0mself\u001b[0m\u001b[0;34m.\u001b[0m\u001b[0m_forward_hooks\u001b[0m\u001b[0;34m.\u001b[0m\u001b[0mvalues\u001b[0m\u001b[0;34m(\u001b[0m\u001b[0;34m)\u001b[0m\u001b[0;34m:\u001b[0m\u001b[0;34m\u001b[0m\u001b[0;34m\u001b[0m\u001b[0m\n\u001b[1;32m    552\u001b[0m             \u001b[0mhook_result\u001b[0m \u001b[0;34m=\u001b[0m \u001b[0mhook\u001b[0m\u001b[0;34m(\u001b[0m\u001b[0mself\u001b[0m\u001b[0;34m,\u001b[0m \u001b[0minput\u001b[0m\u001b[0;34m,\u001b[0m \u001b[0mresult\u001b[0m\u001b[0;34m)\u001b[0m\u001b[0;34m\u001b[0m\u001b[0;34m\u001b[0m\u001b[0m\n",
      "\u001b[0;32m/usr/local/lib/python3.6/dist-packages/torch/nn/modules/container.py\u001b[0m in \u001b[0;36mforward\u001b[0;34m(self, input)\u001b[0m\n\u001b[1;32m     98\u001b[0m     \u001b[0;32mdef\u001b[0m \u001b[0mforward\u001b[0m\u001b[0;34m(\u001b[0m\u001b[0mself\u001b[0m\u001b[0;34m,\u001b[0m \u001b[0minput\u001b[0m\u001b[0;34m)\u001b[0m\u001b[0;34m:\u001b[0m\u001b[0;34m\u001b[0m\u001b[0;34m\u001b[0m\u001b[0m\n\u001b[1;32m     99\u001b[0m         \u001b[0;32mfor\u001b[0m \u001b[0mmodule\u001b[0m \u001b[0;32min\u001b[0m \u001b[0mself\u001b[0m\u001b[0;34m:\u001b[0m\u001b[0;34m\u001b[0m\u001b[0;34m\u001b[0m\u001b[0m\n\u001b[0;32m--> 100\u001b[0;31m             \u001b[0minput\u001b[0m \u001b[0;34m=\u001b[0m \u001b[0mmodule\u001b[0m\u001b[0;34m(\u001b[0m\u001b[0minput\u001b[0m\u001b[0;34m)\u001b[0m\u001b[0;34m\u001b[0m\u001b[0;34m\u001b[0m\u001b[0m\n\u001b[0m\u001b[1;32m    101\u001b[0m         \u001b[0;32mreturn\u001b[0m \u001b[0minput\u001b[0m\u001b[0;34m\u001b[0m\u001b[0;34m\u001b[0m\u001b[0m\n\u001b[1;32m    102\u001b[0m \u001b[0;34m\u001b[0m\u001b[0m\n",
      "\u001b[0;32m/usr/local/lib/python3.6/dist-packages/torch/nn/modules/module.py\u001b[0m in \u001b[0;36m__call__\u001b[0;34m(self, *input, **kwargs)\u001b[0m\n\u001b[1;32m    548\u001b[0m             \u001b[0mresult\u001b[0m \u001b[0;34m=\u001b[0m \u001b[0mself\u001b[0m\u001b[0;34m.\u001b[0m\u001b[0m_slow_forward\u001b[0m\u001b[0;34m(\u001b[0m\u001b[0;34m*\u001b[0m\u001b[0minput\u001b[0m\u001b[0;34m,\u001b[0m \u001b[0;34m**\u001b[0m\u001b[0mkwargs\u001b[0m\u001b[0;34m)\u001b[0m\u001b[0;34m\u001b[0m\u001b[0;34m\u001b[0m\u001b[0m\n\u001b[1;32m    549\u001b[0m         \u001b[0;32melse\u001b[0m\u001b[0;34m:\u001b[0m\u001b[0;34m\u001b[0m\u001b[0;34m\u001b[0m\u001b[0m\n\u001b[0;32m--> 550\u001b[0;31m             \u001b[0mresult\u001b[0m \u001b[0;34m=\u001b[0m \u001b[0mself\u001b[0m\u001b[0;34m.\u001b[0m\u001b[0mforward\u001b[0m\u001b[0;34m(\u001b[0m\u001b[0;34m*\u001b[0m\u001b[0minput\u001b[0m\u001b[0;34m,\u001b[0m \u001b[0;34m**\u001b[0m\u001b[0mkwargs\u001b[0m\u001b[0;34m)\u001b[0m\u001b[0;34m\u001b[0m\u001b[0;34m\u001b[0m\u001b[0m\n\u001b[0m\u001b[1;32m    551\u001b[0m         \u001b[0;32mfor\u001b[0m \u001b[0mhook\u001b[0m \u001b[0;32min\u001b[0m \u001b[0mself\u001b[0m\u001b[0;34m.\u001b[0m\u001b[0m_forward_hooks\u001b[0m\u001b[0;34m.\u001b[0m\u001b[0mvalues\u001b[0m\u001b[0;34m(\u001b[0m\u001b[0;34m)\u001b[0m\u001b[0;34m:\u001b[0m\u001b[0;34m\u001b[0m\u001b[0;34m\u001b[0m\u001b[0m\n\u001b[1;32m    552\u001b[0m             \u001b[0mhook_result\u001b[0m \u001b[0;34m=\u001b[0m \u001b[0mhook\u001b[0m\u001b[0;34m(\u001b[0m\u001b[0mself\u001b[0m\u001b[0;34m,\u001b[0m \u001b[0minput\u001b[0m\u001b[0;34m,\u001b[0m \u001b[0mresult\u001b[0m\u001b[0;34m)\u001b[0m\u001b[0;34m\u001b[0m\u001b[0;34m\u001b[0m\u001b[0m\n",
      "\u001b[0;32m/usr/local/lib/python3.6/dist-packages/torchvision/models/resnet.py\u001b[0m in \u001b[0;36mforward\u001b[0;34m(self, x)\u001b[0m\n\u001b[1;32m    106\u001b[0m         \u001b[0mout\u001b[0m \u001b[0;34m=\u001b[0m \u001b[0mself\u001b[0m\u001b[0;34m.\u001b[0m\u001b[0mrelu\u001b[0m\u001b[0;34m(\u001b[0m\u001b[0mout\u001b[0m\u001b[0;34m)\u001b[0m\u001b[0;34m\u001b[0m\u001b[0;34m\u001b[0m\u001b[0m\n\u001b[1;32m    107\u001b[0m \u001b[0;34m\u001b[0m\u001b[0m\n\u001b[0;32m--> 108\u001b[0;31m         \u001b[0mout\u001b[0m \u001b[0;34m=\u001b[0m \u001b[0mself\u001b[0m\u001b[0;34m.\u001b[0m\u001b[0mconv2\u001b[0m\u001b[0;34m(\u001b[0m\u001b[0mout\u001b[0m\u001b[0;34m)\u001b[0m\u001b[0;34m\u001b[0m\u001b[0;34m\u001b[0m\u001b[0m\n\u001b[0m\u001b[1;32m    109\u001b[0m         \u001b[0mout\u001b[0m \u001b[0;34m=\u001b[0m \u001b[0mself\u001b[0m\u001b[0;34m.\u001b[0m\u001b[0mbn2\u001b[0m\u001b[0;34m(\u001b[0m\u001b[0mout\u001b[0m\u001b[0;34m)\u001b[0m\u001b[0;34m\u001b[0m\u001b[0;34m\u001b[0m\u001b[0m\n\u001b[1;32m    110\u001b[0m         \u001b[0mout\u001b[0m \u001b[0;34m=\u001b[0m \u001b[0mself\u001b[0m\u001b[0;34m.\u001b[0m\u001b[0mrelu\u001b[0m\u001b[0;34m(\u001b[0m\u001b[0mout\u001b[0m\u001b[0;34m)\u001b[0m\u001b[0;34m\u001b[0m\u001b[0;34m\u001b[0m\u001b[0m\n",
      "\u001b[0;32m/usr/local/lib/python3.6/dist-packages/torch/nn/modules/module.py\u001b[0m in \u001b[0;36m__call__\u001b[0;34m(self, *input, **kwargs)\u001b[0m\n\u001b[1;32m    548\u001b[0m             \u001b[0mresult\u001b[0m \u001b[0;34m=\u001b[0m \u001b[0mself\u001b[0m\u001b[0;34m.\u001b[0m\u001b[0m_slow_forward\u001b[0m\u001b[0;34m(\u001b[0m\u001b[0;34m*\u001b[0m\u001b[0minput\u001b[0m\u001b[0;34m,\u001b[0m \u001b[0;34m**\u001b[0m\u001b[0mkwargs\u001b[0m\u001b[0;34m)\u001b[0m\u001b[0;34m\u001b[0m\u001b[0;34m\u001b[0m\u001b[0m\n\u001b[1;32m    549\u001b[0m         \u001b[0;32melse\u001b[0m\u001b[0;34m:\u001b[0m\u001b[0;34m\u001b[0m\u001b[0;34m\u001b[0m\u001b[0m\n\u001b[0;32m--> 550\u001b[0;31m             \u001b[0mresult\u001b[0m \u001b[0;34m=\u001b[0m \u001b[0mself\u001b[0m\u001b[0;34m.\u001b[0m\u001b[0mforward\u001b[0m\u001b[0;34m(\u001b[0m\u001b[0;34m*\u001b[0m\u001b[0minput\u001b[0m\u001b[0;34m,\u001b[0m \u001b[0;34m**\u001b[0m\u001b[0mkwargs\u001b[0m\u001b[0;34m)\u001b[0m\u001b[0;34m\u001b[0m\u001b[0;34m\u001b[0m\u001b[0m\n\u001b[0m\u001b[1;32m    551\u001b[0m         \u001b[0;32mfor\u001b[0m \u001b[0mhook\u001b[0m \u001b[0;32min\u001b[0m \u001b[0mself\u001b[0m\u001b[0;34m.\u001b[0m\u001b[0m_forward_hooks\u001b[0m\u001b[0;34m.\u001b[0m\u001b[0mvalues\u001b[0m\u001b[0;34m(\u001b[0m\u001b[0;34m)\u001b[0m\u001b[0;34m:\u001b[0m\u001b[0;34m\u001b[0m\u001b[0;34m\u001b[0m\u001b[0m\n\u001b[1;32m    552\u001b[0m             \u001b[0mhook_result\u001b[0m \u001b[0;34m=\u001b[0m \u001b[0mhook\u001b[0m\u001b[0;34m(\u001b[0m\u001b[0mself\u001b[0m\u001b[0;34m,\u001b[0m \u001b[0minput\u001b[0m\u001b[0;34m,\u001b[0m \u001b[0mresult\u001b[0m\u001b[0;34m)\u001b[0m\u001b[0;34m\u001b[0m\u001b[0;34m\u001b[0m\u001b[0m\n",
      "\u001b[0;32m/usr/local/lib/python3.6/dist-packages/torch/nn/modules/conv.py\u001b[0m in \u001b[0;36mforward\u001b[0;34m(self, input)\u001b[0m\n\u001b[1;32m    347\u001b[0m \u001b[0;34m\u001b[0m\u001b[0m\n\u001b[1;32m    348\u001b[0m     \u001b[0;32mdef\u001b[0m \u001b[0mforward\u001b[0m\u001b[0;34m(\u001b[0m\u001b[0mself\u001b[0m\u001b[0;34m,\u001b[0m \u001b[0minput\u001b[0m\u001b[0;34m)\u001b[0m\u001b[0;34m:\u001b[0m\u001b[0;34m\u001b[0m\u001b[0;34m\u001b[0m\u001b[0m\n\u001b[0;32m--> 349\u001b[0;31m         \u001b[0;32mreturn\u001b[0m \u001b[0mself\u001b[0m\u001b[0;34m.\u001b[0m\u001b[0m_conv_forward\u001b[0m\u001b[0;34m(\u001b[0m\u001b[0minput\u001b[0m\u001b[0;34m,\u001b[0m \u001b[0mself\u001b[0m\u001b[0;34m.\u001b[0m\u001b[0mweight\u001b[0m\u001b[0;34m)\u001b[0m\u001b[0;34m\u001b[0m\u001b[0;34m\u001b[0m\u001b[0m\n\u001b[0m\u001b[1;32m    350\u001b[0m \u001b[0;34m\u001b[0m\u001b[0m\n\u001b[1;32m    351\u001b[0m \u001b[0;32mclass\u001b[0m \u001b[0mConv3d\u001b[0m\u001b[0;34m(\u001b[0m\u001b[0m_ConvNd\u001b[0m\u001b[0;34m)\u001b[0m\u001b[0;34m:\u001b[0m\u001b[0;34m\u001b[0m\u001b[0;34m\u001b[0m\u001b[0m\n",
      "\u001b[0;32m/usr/local/lib/python3.6/dist-packages/torch/nn/modules/conv.py\u001b[0m in \u001b[0;36m_conv_forward\u001b[0;34m(self, input, weight)\u001b[0m\n\u001b[1;32m    344\u001b[0m                             _pair(0), self.dilation, self.groups)\n\u001b[1;32m    345\u001b[0m         return F.conv2d(input, weight, self.bias, self.stride,\n\u001b[0;32m--> 346\u001b[0;31m                         self.padding, self.dilation, self.groups)\n\u001b[0m\u001b[1;32m    347\u001b[0m \u001b[0;34m\u001b[0m\u001b[0m\n\u001b[1;32m    348\u001b[0m     \u001b[0;32mdef\u001b[0m \u001b[0mforward\u001b[0m\u001b[0;34m(\u001b[0m\u001b[0mself\u001b[0m\u001b[0;34m,\u001b[0m \u001b[0minput\u001b[0m\u001b[0;34m)\u001b[0m\u001b[0;34m:\u001b[0m\u001b[0;34m\u001b[0m\u001b[0;34m\u001b[0m\u001b[0m\n",
      "\u001b[0;31mKeyboardInterrupt\u001b[0m: "
     ]
    }
   ],
   "source": [
    "# Не успела сделать 8 эпоху, остановилась на 7, так как до конца соревнования оставалось меньше часа\n",
    "optimizer = optim.Adam(model.parameters(), lr=0.00008, amsgrad=True)\n",
    "for epoch in range(2):\n",
    "    train_loss = train(model, train_dataloader, loss_fn, optimizer, device=device)\n",
    "    val_loss = validate(model, val_dataloader, loss_fn, device=device)\n",
    "    print(\"Epoch #{:2}:\\ttrain loss: {:5.2} \\tval loss: {:5.2}\".format(epoch, train_loss, val_loss))\n",
    "    if val_loss < best_val_loss:\n",
    "        best_val_loss = val_loss\n",
    "        with open(f\"resnext_crop_1105_7epoch_val.pth\", \"wb\") as fp:\n",
    "            torch.save(model.state_dict(), fp)"
   ]
  },
  {
   "cell_type": "code",
   "execution_count": 0,
   "metadata": {
    "colab": {
     "base_uri": "https://localhost:8080/",
     "height": 67
    },
    "colab_type": "code",
    "id": "O21WFQRTSN06",
    "outputId": "892f195a-8fa6-427c-94d8-64a371e83e2c"
   },
   "outputs": [
    {
     "name": "stderr",
     "output_type": "stream",
     "text": [
      "33789it [00:00, 337884.68it/s]"
     ]
    },
    {
     "name": "stdout",
     "output_type": "stream",
     "text": [
      "99819\n"
     ]
    },
    {
     "name": "stderr",
     "output_type": "stream",
     "text": [
      "99820it [00:00, 394651.04it/s]\n",
      "test prediction...: 100%|██████████| 1560/1560 [06:00<00:00,  4.33it/s]\n"
     ]
    }
   ],
   "source": [
    "test_dataset = ThousandLandmarksDataset(os.path.join('data', 'test'), train_transforms, split=\"test\")\n",
    "test_dataloader = data.DataLoader(test_dataset, batch_size=64, num_workers=4, pin_memory=True,\n",
    "                                  shuffle=False, drop_last=False)\n",
    "\n",
    "with open(f\"resnext_crop_1105_7epoch_val.pth\", \"rb\") as fp:\n",
    "    best_state_dict = torch.load(fp, map_location=\"cpu\")\n",
    "    model.load_state_dict(best_state_dict)\n",
    "\n",
    "test_predictions = predict(model, test_dataloader, device)\n",
    "with open(f\"resnext_crop_1105_7epoch_val_test_predictions.pkl\", \"wb\") as fp:\n",
    "    pickle.dump({\"image_names\": test_dataset.image_names,\n",
    "                  \"landmarks\": test_predictions}, fp)\n",
    "\n",
    "create_submission_float('data', test_predictions, f\"resnext_crop_1105_7epoch_val_float.csv\")"
   ]
  },
  {
   "cell_type": "code",
   "execution_count": 0,
   "metadata": {
    "colab": {},
    "colab_type": "code",
    "collapsed": true,
    "id": "Di-KgzwHztGI"
   },
   "outputs": [],
   "source": [
    "test_dataset = ThousandLandmarksDataset(os.path.join('data', 'test'), train_transforms, split=\"test\")\n",
    "test_dataloader = data.DataLoader(test_dataset, batch_size=64, num_workers=4, pin_memory=True,\n",
    "                                  shuffle=False, drop_last=False)\n",
    "\n",
    "with open(f\"resnext_crop_1105_7epoch_val.pth\", \"rb\") as fp:\n",
    "    best_state_dict = torch.load(fp, map_location=\"cpu\")\n",
    "    model.load_state_dict(best_state_dict)\n",
    "\n",
    "test_predictions = predict(model, test_dataloader, device)\n",
    "with open(f\"resnext_crop_1105_7epoch_val_test_predictions.pkl\", \"wb\") as fp:\n",
    "    pickle.dump({\"image_names\": test_dataset.image_names,\n",
    "                  \"landmarks\": test_predictions}, fp)\n",
    "\n",
    "create_submission_float('data', test_predictions, f\"resnext_crop_1105_7epoch_val_float.csv\")"
   ]
  },
  {
   "cell_type": "markdown",
   "metadata": {
    "colab_type": "text",
    "id": "UctEyP8_kyav"
   },
   "source": [
    "### **Avarage results of 2 models**\n"
   ]
  },
  {
   "cell_type": "code",
   "execution_count": 0,
   "metadata": {
    "colab": {
     "base_uri": "https://localhost:8080/",
     "height": 216
    },
    "colab_type": "code",
    "id": "rsw5FBCoXFDJ",
    "outputId": "3fe92b67-b72b-4e9e-e5df-0f183a607f3f"
   },
   "outputs": [
    {
     "data": {
      "text/html": [
       "<div>\n",
       "<style scoped>\n",
       "    .dataframe tbody tr th:only-of-type {\n",
       "        vertical-align: middle;\n",
       "    }\n",
       "\n",
       "    .dataframe tbody tr th {\n",
       "        vertical-align: top;\n",
       "    }\n",
       "\n",
       "    .dataframe thead th {\n",
       "        text-align: right;\n",
       "    }\n",
       "</style>\n",
       "<table border=\"1\" class=\"dataframe\">\n",
       "  <thead>\n",
       "    <tr style=\"text-align: right;\">\n",
       "      <th></th>\n",
       "      <th>file_name</th>\n",
       "      <th>Point_M0_X</th>\n",
       "      <th>Point_M0_Y</th>\n",
       "      <th>Point_M1_X</th>\n",
       "      <th>Point_M1_Y</th>\n",
       "      <th>Point_M2_X</th>\n",
       "      <th>Point_M2_Y</th>\n",
       "      <th>Point_M3_X</th>\n",
       "      <th>Point_M3_Y</th>\n",
       "      <th>Point_M4_X</th>\n",
       "      <th>Point_M4_Y</th>\n",
       "      <th>Point_M5_X</th>\n",
       "      <th>Point_M5_Y</th>\n",
       "      <th>Point_M6_X</th>\n",
       "      <th>Point_M6_Y</th>\n",
       "      <th>Point_M7_X</th>\n",
       "      <th>Point_M7_Y</th>\n",
       "      <th>Point_M8_X</th>\n",
       "      <th>Point_M8_Y</th>\n",
       "      <th>Point_M9_X</th>\n",
       "      <th>Point_M9_Y</th>\n",
       "      <th>Point_M10_X</th>\n",
       "      <th>Point_M10_Y</th>\n",
       "      <th>Point_M11_X</th>\n",
       "      <th>Point_M11_Y</th>\n",
       "      <th>Point_M12_X</th>\n",
       "      <th>Point_M12_Y</th>\n",
       "      <th>Point_M13_X</th>\n",
       "      <th>Point_M13_Y</th>\n",
       "      <th>Point_M14_X</th>\n",
       "      <th>Point_M14_Y</th>\n",
       "      <th>Point_M15_X</th>\n",
       "      <th>Point_M15_Y</th>\n",
       "      <th>Point_M16_X</th>\n",
       "      <th>Point_M16_Y</th>\n",
       "      <th>Point_M17_X</th>\n",
       "      <th>Point_M17_Y</th>\n",
       "      <th>Point_M18_X</th>\n",
       "      <th>Point_M18_Y</th>\n",
       "      <th>Point_M19_X</th>\n",
       "      <th>Point_M19_Y</th>\n",
       "      <th>Point_M20_X</th>\n",
       "      <th>Point_M20_Y</th>\n",
       "      <th>Point_M21_X</th>\n",
       "      <th>Point_M21_Y</th>\n",
       "      <th>Point_M22_X</th>\n",
       "      <th>Point_M22_Y</th>\n",
       "      <th>Point_M23_X</th>\n",
       "      <th>Point_M23_Y</th>\n",
       "      <th>Point_M24_X</th>\n",
       "      <th>Point_M24_Y</th>\n",
       "      <th>Point_M25_X</th>\n",
       "      <th>Point_M25_Y</th>\n",
       "      <th>Point_M26_X</th>\n",
       "      <th>Point_M26_Y</th>\n",
       "      <th>Point_M27_X</th>\n",
       "      <th>Point_M27_Y</th>\n",
       "      <th>Point_M28_X</th>\n",
       "      <th>Point_M28_Y</th>\n",
       "      <th>Point_M29_X</th>\n",
       "      <th>Point_M29_Y</th>\n",
       "    </tr>\n",
       "  </thead>\n",
       "  <tbody>\n",
       "    <tr>\n",
       "      <th>0</th>\n",
       "      <td>c59b2834147079f3e34627f1e75656b1.jpg</td>\n",
       "      <td>65.289970</td>\n",
       "      <td>59.937138</td>\n",
       "      <td>70.338371</td>\n",
       "      <td>56.332489</td>\n",
       "      <td>55.483498</td>\n",
       "      <td>86.452248</td>\n",
       "      <td>67.929428</td>\n",
       "      <td>61.757137</td>\n",
       "      <td>89.226089</td>\n",
       "      <td>70.613457</td>\n",
       "      <td>40.369778</td>\n",
       "      <td>63.823235</td>\n",
       "      <td>74.606850</td>\n",
       "      <td>60.958389</td>\n",
       "      <td>32.622311</td>\n",
       "      <td>26.975384</td>\n",
       "      <td>65.644073</td>\n",
       "      <td>61.498074</td>\n",
       "      <td>38.141346</td>\n",
       "      <td>61.610332</td>\n",
       "      <td>74.171257</td>\n",
       "      <td>53.091259</td>\n",
       "      <td>54.132458</td>\n",
       "      <td>62.215893</td>\n",
       "      <td>49.997978</td>\n",
       "      <td>91.427773</td>\n",
       "      <td>21.663687</td>\n",
       "      <td>57.555695</td>\n",
       "      <td>65.078163</td>\n",
       "      <td>59.888191</td>\n",
       "      <td>29.570999</td>\n",
       "      <td>100.896927</td>\n",
       "      <td>68.133827</td>\n",
       "      <td>62.289215</td>\n",
       "      <td>71.304230</td>\n",
       "      <td>59.205624</td>\n",
       "      <td>44.271946</td>\n",
       "      <td>62.473759</td>\n",
       "      <td>70.505905</td>\n",
       "      <td>62.140633</td>\n",
       "      <td>74.830254</td>\n",
       "      <td>61.188541</td>\n",
       "      <td>44.121422</td>\n",
       "      <td>62.709545</td>\n",
       "      <td>63.677315</td>\n",
       "      <td>56.418205</td>\n",
       "      <td>62.844940</td>\n",
       "      <td>89.865845</td>\n",
       "      <td>56.452419</td>\n",
       "      <td>89.477341</td>\n",
       "      <td>23.119942</td>\n",
       "      <td>39.836216</td>\n",
       "      <td>54.895264</td>\n",
       "      <td>83.446877</td>\n",
       "      <td>30.470196</td>\n",
       "      <td>102.722084</td>\n",
       "      <td>43.539955</td>\n",
       "      <td>23.845037</td>\n",
       "      <td>49.076118</td>\n",
       "      <td>66.343758</td>\n",
       "    </tr>\n",
       "    <tr>\n",
       "      <th>1</th>\n",
       "      <td>85629eb20fdbbb98d0ee20ed9f3ba233.jpg</td>\n",
       "      <td>86.604904</td>\n",
       "      <td>161.852859</td>\n",
       "      <td>90.676949</td>\n",
       "      <td>124.182060</td>\n",
       "      <td>148.935333</td>\n",
       "      <td>105.741631</td>\n",
       "      <td>116.952682</td>\n",
       "      <td>117.508156</td>\n",
       "      <td>190.587509</td>\n",
       "      <td>111.383430</td>\n",
       "      <td>52.386288</td>\n",
       "      <td>95.318085</td>\n",
       "      <td>189.483246</td>\n",
       "      <td>150.817780</td>\n",
       "      <td>65.380463</td>\n",
       "      <td>102.135033</td>\n",
       "      <td>134.338806</td>\n",
       "      <td>119.892616</td>\n",
       "      <td>52.955753</td>\n",
       "      <td>86.626900</td>\n",
       "      <td>133.003601</td>\n",
       "      <td>176.596298</td>\n",
       "      <td>78.147865</td>\n",
       "      <td>117.438576</td>\n",
       "      <td>95.064415</td>\n",
       "      <td>174.635635</td>\n",
       "      <td>93.562759</td>\n",
       "      <td>163.046768</td>\n",
       "      <td>149.334030</td>\n",
       "      <td>222.012527</td>\n",
       "      <td>192.054779</td>\n",
       "      <td>127.764160</td>\n",
       "      <td>120.189980</td>\n",
       "      <td>121.112045</td>\n",
       "      <td>130.291061</td>\n",
       "      <td>115.873230</td>\n",
       "      <td>126.820946</td>\n",
       "      <td>114.740402</td>\n",
       "      <td>109.260620</td>\n",
       "      <td>134.423141</td>\n",
       "      <td>125.571854</td>\n",
       "      <td>172.621872</td>\n",
       "      <td>75.524384</td>\n",
       "      <td>152.389084</td>\n",
       "      <td>93.500008</td>\n",
       "      <td>164.751389</td>\n",
       "      <td>118.751350</td>\n",
       "      <td>171.263397</td>\n",
       "      <td>75.780579</td>\n",
       "      <td>150.764572</td>\n",
       "      <td>59.061543</td>\n",
       "      <td>102.288620</td>\n",
       "      <td>131.076828</td>\n",
       "      <td>173.122162</td>\n",
       "      <td>81.574219</td>\n",
       "      <td>188.150452</td>\n",
       "      <td>56.504631</td>\n",
       "      <td>160.486572</td>\n",
       "      <td>129.315155</td>\n",
       "      <td>172.836670</td>\n",
       "    </tr>\n",
       "    <tr>\n",
       "      <th>2</th>\n",
       "      <td>4df0124462ce32e0e8dd5d96a7d6496d.jpg</td>\n",
       "      <td>195.509933</td>\n",
       "      <td>156.747925</td>\n",
       "      <td>123.747940</td>\n",
       "      <td>265.017242</td>\n",
       "      <td>98.402031</td>\n",
       "      <td>177.035858</td>\n",
       "      <td>153.027573</td>\n",
       "      <td>184.670807</td>\n",
       "      <td>137.832581</td>\n",
       "      <td>187.804825</td>\n",
       "      <td>145.510941</td>\n",
       "      <td>324.325714</td>\n",
       "      <td>112.430656</td>\n",
       "      <td>311.059814</td>\n",
       "      <td>225.217010</td>\n",
       "      <td>159.073578</td>\n",
       "      <td>230.654861</td>\n",
       "      <td>187.587128</td>\n",
       "      <td>138.244110</td>\n",
       "      <td>198.143005</td>\n",
       "      <td>76.148117</td>\n",
       "      <td>172.251083</td>\n",
       "      <td>120.910835</td>\n",
       "      <td>261.621796</td>\n",
       "      <td>228.126038</td>\n",
       "      <td>195.723862</td>\n",
       "      <td>138.298462</td>\n",
       "      <td>196.495544</td>\n",
       "      <td>84.713387</td>\n",
       "      <td>166.796127</td>\n",
       "      <td>102.974770</td>\n",
       "      <td>185.850296</td>\n",
       "      <td>165.426193</td>\n",
       "      <td>170.215851</td>\n",
       "      <td>59.291908</td>\n",
       "      <td>204.647354</td>\n",
       "      <td>190.801620</td>\n",
       "      <td>171.766769</td>\n",
       "      <td>231.002167</td>\n",
       "      <td>195.942291</td>\n",
       "      <td>169.505524</td>\n",
       "      <td>167.644485</td>\n",
       "      <td>155.439270</td>\n",
       "      <td>272.911774</td>\n",
       "      <td>178.284485</td>\n",
       "      <td>175.709457</td>\n",
       "      <td>201.887482</td>\n",
       "      <td>163.440704</td>\n",
       "      <td>140.567932</td>\n",
       "      <td>231.564438</td>\n",
       "      <td>187.251114</td>\n",
       "      <td>173.731506</td>\n",
       "      <td>74.798996</td>\n",
       "      <td>249.275528</td>\n",
       "      <td>174.004227</td>\n",
       "      <td>176.258392</td>\n",
       "      <td>151.215240</td>\n",
       "      <td>233.701950</td>\n",
       "      <td>180.787613</td>\n",
       "      <td>166.191696</td>\n",
       "    </tr>\n",
       "    <tr>\n",
       "      <th>3</th>\n",
       "      <td>fca085b03b834d9d94170e8f1453276e.jpg</td>\n",
       "      <td>54.858025</td>\n",
       "      <td>124.938347</td>\n",
       "      <td>44.060642</td>\n",
       "      <td>114.658142</td>\n",
       "      <td>83.951370</td>\n",
       "      <td>80.380371</td>\n",
       "      <td>86.224159</td>\n",
       "      <td>68.858101</td>\n",
       "      <td>102.692101</td>\n",
       "      <td>73.330170</td>\n",
       "      <td>70.421272</td>\n",
       "      <td>81.548904</td>\n",
       "      <td>56.357353</td>\n",
       "      <td>116.730759</td>\n",
       "      <td>82.897644</td>\n",
       "      <td>78.962608</td>\n",
       "      <td>37.524006</td>\n",
       "      <td>79.481293</td>\n",
       "      <td>58.982475</td>\n",
       "      <td>86.319122</td>\n",
       "      <td>47.385582</td>\n",
       "      <td>79.418686</td>\n",
       "      <td>85.241997</td>\n",
       "      <td>73.448631</td>\n",
       "      <td>22.218214</td>\n",
       "      <td>83.037544</td>\n",
       "      <td>89.134712</td>\n",
       "      <td>135.665680</td>\n",
       "      <td>94.488983</td>\n",
       "      <td>74.116348</td>\n",
       "      <td>49.378391</td>\n",
       "      <td>95.773445</td>\n",
       "      <td>41.550312</td>\n",
       "      <td>69.295502</td>\n",
       "      <td>58.074215</td>\n",
       "      <td>107.493385</td>\n",
       "      <td>40.149891</td>\n",
       "      <td>73.870163</td>\n",
       "      <td>70.027931</td>\n",
       "      <td>97.688919</td>\n",
       "      <td>75.374588</td>\n",
       "      <td>118.145020</td>\n",
       "      <td>67.697044</td>\n",
       "      <td>151.209763</td>\n",
       "      <td>78.992340</td>\n",
       "      <td>68.858498</td>\n",
       "      <td>73.626793</td>\n",
       "      <td>78.942162</td>\n",
       "      <td>52.626411</td>\n",
       "      <td>86.995766</td>\n",
       "      <td>57.421654</td>\n",
       "      <td>120.473328</td>\n",
       "      <td>38.625847</td>\n",
       "      <td>69.170914</td>\n",
       "      <td>99.382393</td>\n",
       "      <td>112.343788</td>\n",
       "      <td>61.048882</td>\n",
       "      <td>151.999115</td>\n",
       "      <td>40.006672</td>\n",
       "      <td>78.419174</td>\n",
       "    </tr>\n",
       "    <tr>\n",
       "      <th>4</th>\n",
       "      <td>67b598c8621b1f7135dfbc1c47fe2893.jpg</td>\n",
       "      <td>86.050453</td>\n",
       "      <td>74.927452</td>\n",
       "      <td>86.869339</td>\n",
       "      <td>29.431252</td>\n",
       "      <td>77.035370</td>\n",
       "      <td>77.407791</td>\n",
       "      <td>104.914093</td>\n",
       "      <td>64.660080</td>\n",
       "      <td>92.864616</td>\n",
       "      <td>74.369797</td>\n",
       "      <td>88.870346</td>\n",
       "      <td>59.549259</td>\n",
       "      <td>72.398514</td>\n",
       "      <td>114.471344</td>\n",
       "      <td>59.658508</td>\n",
       "      <td>29.668930</td>\n",
       "      <td>119.427193</td>\n",
       "      <td>68.702644</td>\n",
       "      <td>59.509800</td>\n",
       "      <td>74.914352</td>\n",
       "      <td>83.689598</td>\n",
       "      <td>118.637299</td>\n",
       "      <td>115.985405</td>\n",
       "      <td>52.626774</td>\n",
       "      <td>67.507240</td>\n",
       "      <td>77.204056</td>\n",
       "      <td>43.232769</td>\n",
       "      <td>37.037220</td>\n",
       "      <td>117.198418</td>\n",
       "      <td>56.544952</td>\n",
       "      <td>65.490097</td>\n",
       "      <td>29.141897</td>\n",
       "      <td>42.193939</td>\n",
       "      <td>119.074944</td>\n",
       "      <td>77.423073</td>\n",
       "      <td>28.745342</td>\n",
       "      <td>62.993103</td>\n",
       "      <td>74.706917</td>\n",
       "      <td>89.776695</td>\n",
       "      <td>59.429005</td>\n",
       "      <td>49.880432</td>\n",
       "      <td>71.645538</td>\n",
       "      <td>89.542793</td>\n",
       "      <td>29.899483</td>\n",
       "      <td>50.674740</td>\n",
       "      <td>71.284691</td>\n",
       "      <td>72.574974</td>\n",
       "      <td>120.107437</td>\n",
       "      <td>97.441528</td>\n",
       "      <td>73.512093</td>\n",
       "      <td>95.814941</td>\n",
       "      <td>72.930016</td>\n",
       "      <td>74.856903</td>\n",
       "      <td>150.038879</td>\n",
       "      <td>100.982933</td>\n",
       "      <td>60.269016</td>\n",
       "      <td>100.760208</td>\n",
       "      <td>138.255463</td>\n",
       "      <td>82.185745</td>\n",
       "      <td>148.911728</td>\n",
       "    </tr>\n",
       "  </tbody>\n",
       "</table>\n",
       "</div>"
      ],
      "text/plain": [
       "                              file_name  Point_M0_X  ...  Point_M29_X  Point_M29_Y\n",
       "0  c59b2834147079f3e34627f1e75656b1.jpg   65.289970  ...    49.076118    66.343758\n",
       "1  85629eb20fdbbb98d0ee20ed9f3ba233.jpg   86.604904  ...   129.315155   172.836670\n",
       "2  4df0124462ce32e0e8dd5d96a7d6496d.jpg  195.509933  ...   180.787613   166.191696\n",
       "3  fca085b03b834d9d94170e8f1453276e.jpg   54.858025  ...    40.006672    78.419174\n",
       "4  67b598c8621b1f7135dfbc1c47fe2893.jpg   86.050453  ...    82.185745   148.911728\n",
       "\n",
       "[5 rows x 61 columns]"
      ]
     },
     "execution_count": 110,
     "metadata": {
      "tags": []
     },
     "output_type": "execute_result"
    }
   ],
   "source": [
    "result = pd.read_csv(\"resnext_crop_0905_8epoch_float.csv\")\n",
    "result.head()"
   ]
  },
  {
   "cell_type": "code",
   "execution_count": 0,
   "metadata": {
    "colab": {
     "base_uri": "https://localhost:8080/",
     "height": 216
    },
    "colab_type": "code",
    "id": "E9VdU_QaOjXD",
    "outputId": "7e7480bc-c21e-4baf-f854-8e70b04b0398"
   },
   "outputs": [
    {
     "data": {
      "text/html": [
       "<div>\n",
       "<style scoped>\n",
       "    .dataframe tbody tr th:only-of-type {\n",
       "        vertical-align: middle;\n",
       "    }\n",
       "\n",
       "    .dataframe tbody tr th {\n",
       "        vertical-align: top;\n",
       "    }\n",
       "\n",
       "    .dataframe thead th {\n",
       "        text-align: right;\n",
       "    }\n",
       "</style>\n",
       "<table border=\"1\" class=\"dataframe\">\n",
       "  <thead>\n",
       "    <tr style=\"text-align: right;\">\n",
       "      <th></th>\n",
       "      <th>file_name</th>\n",
       "      <th>Point_M0_X</th>\n",
       "      <th>Point_M0_Y</th>\n",
       "      <th>Point_M1_X</th>\n",
       "      <th>Point_M1_Y</th>\n",
       "      <th>Point_M2_X</th>\n",
       "      <th>Point_M2_Y</th>\n",
       "      <th>Point_M3_X</th>\n",
       "      <th>Point_M3_Y</th>\n",
       "      <th>Point_M4_X</th>\n",
       "      <th>Point_M4_Y</th>\n",
       "      <th>Point_M5_X</th>\n",
       "      <th>Point_M5_Y</th>\n",
       "      <th>Point_M6_X</th>\n",
       "      <th>Point_M6_Y</th>\n",
       "      <th>Point_M7_X</th>\n",
       "      <th>Point_M7_Y</th>\n",
       "      <th>Point_M8_X</th>\n",
       "      <th>Point_M8_Y</th>\n",
       "      <th>Point_M9_X</th>\n",
       "      <th>Point_M9_Y</th>\n",
       "      <th>Point_M10_X</th>\n",
       "      <th>Point_M10_Y</th>\n",
       "      <th>Point_M11_X</th>\n",
       "      <th>Point_M11_Y</th>\n",
       "      <th>Point_M12_X</th>\n",
       "      <th>Point_M12_Y</th>\n",
       "      <th>Point_M13_X</th>\n",
       "      <th>Point_M13_Y</th>\n",
       "      <th>Point_M14_X</th>\n",
       "      <th>Point_M14_Y</th>\n",
       "      <th>Point_M15_X</th>\n",
       "      <th>Point_M15_Y</th>\n",
       "      <th>Point_M16_X</th>\n",
       "      <th>Point_M16_Y</th>\n",
       "      <th>Point_M17_X</th>\n",
       "      <th>Point_M17_Y</th>\n",
       "      <th>Point_M18_X</th>\n",
       "      <th>Point_M18_Y</th>\n",
       "      <th>Point_M19_X</th>\n",
       "      <th>Point_M19_Y</th>\n",
       "      <th>Point_M20_X</th>\n",
       "      <th>Point_M20_Y</th>\n",
       "      <th>Point_M21_X</th>\n",
       "      <th>Point_M21_Y</th>\n",
       "      <th>Point_M22_X</th>\n",
       "      <th>Point_M22_Y</th>\n",
       "      <th>Point_M23_X</th>\n",
       "      <th>Point_M23_Y</th>\n",
       "      <th>Point_M24_X</th>\n",
       "      <th>Point_M24_Y</th>\n",
       "      <th>Point_M25_X</th>\n",
       "      <th>Point_M25_Y</th>\n",
       "      <th>Point_M26_X</th>\n",
       "      <th>Point_M26_Y</th>\n",
       "      <th>Point_M27_X</th>\n",
       "      <th>Point_M27_Y</th>\n",
       "      <th>Point_M28_X</th>\n",
       "      <th>Point_M28_Y</th>\n",
       "      <th>Point_M29_X</th>\n",
       "      <th>Point_M29_Y</th>\n",
       "    </tr>\n",
       "  </thead>\n",
       "  <tbody>\n",
       "    <tr>\n",
       "      <th>0</th>\n",
       "      <td>c59b2834147079f3e34627f1e75656b1.jpg</td>\n",
       "      <td>65.392578</td>\n",
       "      <td>59.615261</td>\n",
       "      <td>70.190727</td>\n",
       "      <td>56.488220</td>\n",
       "      <td>55.572823</td>\n",
       "      <td>85.849319</td>\n",
       "      <td>67.991051</td>\n",
       "      <td>61.433952</td>\n",
       "      <td>88.580704</td>\n",
       "      <td>70.644417</td>\n",
       "      <td>40.349747</td>\n",
       "      <td>63.666046</td>\n",
       "      <td>74.662483</td>\n",
       "      <td>60.698917</td>\n",
       "      <td>32.867229</td>\n",
       "      <td>27.755688</td>\n",
       "      <td>65.737633</td>\n",
       "      <td>61.170624</td>\n",
       "      <td>38.044769</td>\n",
       "      <td>61.509892</td>\n",
       "      <td>73.934937</td>\n",
       "      <td>53.109287</td>\n",
       "      <td>54.222141</td>\n",
       "      <td>62.292236</td>\n",
       "      <td>50.123505</td>\n",
       "      <td>91.012070</td>\n",
       "      <td>21.738428</td>\n",
       "      <td>57.810612</td>\n",
       "      <td>65.145142</td>\n",
       "      <td>59.638927</td>\n",
       "      <td>29.824150</td>\n",
       "      <td>100.931595</td>\n",
       "      <td>68.160378</td>\n",
       "      <td>62.008144</td>\n",
       "      <td>71.345795</td>\n",
       "      <td>58.946754</td>\n",
       "      <td>44.181683</td>\n",
       "      <td>62.171413</td>\n",
       "      <td>70.569687</td>\n",
       "      <td>61.850960</td>\n",
       "      <td>74.956856</td>\n",
       "      <td>60.922779</td>\n",
       "      <td>44.081459</td>\n",
       "      <td>62.428162</td>\n",
       "      <td>63.659145</td>\n",
       "      <td>56.926640</td>\n",
       "      <td>63.212200</td>\n",
       "      <td>89.313080</td>\n",
       "      <td>56.783726</td>\n",
       "      <td>88.784615</td>\n",
       "      <td>23.386187</td>\n",
       "      <td>40.406445</td>\n",
       "      <td>54.938709</td>\n",
       "      <td>83.009239</td>\n",
       "      <td>30.690758</td>\n",
       "      <td>102.708832</td>\n",
       "      <td>43.599663</td>\n",
       "      <td>24.621426</td>\n",
       "      <td>49.164383</td>\n",
       "      <td>65.941910</td>\n",
       "    </tr>\n",
       "    <tr>\n",
       "      <th>1</th>\n",
       "      <td>85629eb20fdbbb98d0ee20ed9f3ba233.jpg</td>\n",
       "      <td>86.936821</td>\n",
       "      <td>161.646240</td>\n",
       "      <td>90.674019</td>\n",
       "      <td>123.855995</td>\n",
       "      <td>149.018631</td>\n",
       "      <td>105.175064</td>\n",
       "      <td>116.970352</td>\n",
       "      <td>117.087135</td>\n",
       "      <td>188.071472</td>\n",
       "      <td>111.608963</td>\n",
       "      <td>51.825832</td>\n",
       "      <td>95.129921</td>\n",
       "      <td>188.475052</td>\n",
       "      <td>151.942108</td>\n",
       "      <td>66.331589</td>\n",
       "      <td>101.555252</td>\n",
       "      <td>134.143234</td>\n",
       "      <td>119.832169</td>\n",
       "      <td>52.408600</td>\n",
       "      <td>86.377457</td>\n",
       "      <td>133.566620</td>\n",
       "      <td>176.539948</td>\n",
       "      <td>78.611450</td>\n",
       "      <td>116.897896</td>\n",
       "      <td>95.772980</td>\n",
       "      <td>174.619186</td>\n",
       "      <td>93.614349</td>\n",
       "      <td>162.982239</td>\n",
       "      <td>148.848663</td>\n",
       "      <td>222.524918</td>\n",
       "      <td>189.404984</td>\n",
       "      <td>127.778831</td>\n",
       "      <td>120.009567</td>\n",
       "      <td>120.818748</td>\n",
       "      <td>130.111542</td>\n",
       "      <td>115.896629</td>\n",
       "      <td>126.749939</td>\n",
       "      <td>114.616875</td>\n",
       "      <td>108.911369</td>\n",
       "      <td>133.889938</td>\n",
       "      <td>126.089989</td>\n",
       "      <td>173.036209</td>\n",
       "      <td>76.440697</td>\n",
       "      <td>151.774551</td>\n",
       "      <td>93.375710</td>\n",
       "      <td>164.557037</td>\n",
       "      <td>118.986366</td>\n",
       "      <td>172.091400</td>\n",
       "      <td>76.706772</td>\n",
       "      <td>150.179703</td>\n",
       "      <td>60.289459</td>\n",
       "      <td>101.267944</td>\n",
       "      <td>131.655212</td>\n",
       "      <td>173.319305</td>\n",
       "      <td>81.985497</td>\n",
       "      <td>185.949188</td>\n",
       "      <td>57.724846</td>\n",
       "      <td>159.577042</td>\n",
       "      <td>129.843903</td>\n",
       "      <td>173.127487</td>\n",
       "    </tr>\n",
       "    <tr>\n",
       "      <th>2</th>\n",
       "      <td>4df0124462ce32e0e8dd5d96a7d6496d.jpg</td>\n",
       "      <td>196.973755</td>\n",
       "      <td>155.756607</td>\n",
       "      <td>123.359406</td>\n",
       "      <td>265.357483</td>\n",
       "      <td>99.967987</td>\n",
       "      <td>177.063889</td>\n",
       "      <td>153.933060</td>\n",
       "      <td>185.480957</td>\n",
       "      <td>138.533218</td>\n",
       "      <td>189.347870</td>\n",
       "      <td>150.112564</td>\n",
       "      <td>324.716492</td>\n",
       "      <td>116.373810</td>\n",
       "      <td>312.737274</td>\n",
       "      <td>225.506790</td>\n",
       "      <td>159.925827</td>\n",
       "      <td>233.283447</td>\n",
       "      <td>189.307953</td>\n",
       "      <td>138.780945</td>\n",
       "      <td>199.491577</td>\n",
       "      <td>75.648857</td>\n",
       "      <td>173.101547</td>\n",
       "      <td>120.145607</td>\n",
       "      <td>262.728668</td>\n",
       "      <td>228.857712</td>\n",
       "      <td>196.515182</td>\n",
       "      <td>138.730331</td>\n",
       "      <td>197.708450</td>\n",
       "      <td>84.375221</td>\n",
       "      <td>166.899689</td>\n",
       "      <td>103.855927</td>\n",
       "      <td>185.003891</td>\n",
       "      <td>166.472839</td>\n",
       "      <td>170.117310</td>\n",
       "      <td>60.365166</td>\n",
       "      <td>208.314453</td>\n",
       "      <td>191.633469</td>\n",
       "      <td>171.543213</td>\n",
       "      <td>233.819504</td>\n",
       "      <td>197.578369</td>\n",
       "      <td>169.784454</td>\n",
       "      <td>167.460693</td>\n",
       "      <td>155.116943</td>\n",
       "      <td>271.180634</td>\n",
       "      <td>178.686096</td>\n",
       "      <td>174.827805</td>\n",
       "      <td>203.758087</td>\n",
       "      <td>163.181183</td>\n",
       "      <td>140.594650</td>\n",
       "      <td>232.140182</td>\n",
       "      <td>187.835266</td>\n",
       "      <td>173.226273</td>\n",
       "      <td>75.679543</td>\n",
       "      <td>252.504684</td>\n",
       "      <td>174.578323</td>\n",
       "      <td>175.328461</td>\n",
       "      <td>151.395920</td>\n",
       "      <td>234.605225</td>\n",
       "      <td>181.373795</td>\n",
       "      <td>165.174423</td>\n",
       "    </tr>\n",
       "    <tr>\n",
       "      <th>3</th>\n",
       "      <td>fca085b03b834d9d94170e8f1453276e.jpg</td>\n",
       "      <td>54.758404</td>\n",
       "      <td>124.866936</td>\n",
       "      <td>43.794369</td>\n",
       "      <td>114.156143</td>\n",
       "      <td>84.141609</td>\n",
       "      <td>80.124786</td>\n",
       "      <td>85.870811</td>\n",
       "      <td>69.046097</td>\n",
       "      <td>102.413712</td>\n",
       "      <td>73.498962</td>\n",
       "      <td>70.674858</td>\n",
       "      <td>81.277267</td>\n",
       "      <td>56.409439</td>\n",
       "      <td>116.566811</td>\n",
       "      <td>83.040108</td>\n",
       "      <td>78.837257</td>\n",
       "      <td>37.894554</td>\n",
       "      <td>79.598068</td>\n",
       "      <td>59.186939</td>\n",
       "      <td>86.337372</td>\n",
       "      <td>47.625168</td>\n",
       "      <td>79.446831</td>\n",
       "      <td>85.017174</td>\n",
       "      <td>73.535141</td>\n",
       "      <td>21.880161</td>\n",
       "      <td>83.192123</td>\n",
       "      <td>89.175621</td>\n",
       "      <td>135.470367</td>\n",
       "      <td>94.201645</td>\n",
       "      <td>73.981583</td>\n",
       "      <td>49.385807</td>\n",
       "      <td>95.374771</td>\n",
       "      <td>41.684578</td>\n",
       "      <td>69.528763</td>\n",
       "      <td>58.312466</td>\n",
       "      <td>107.266693</td>\n",
       "      <td>40.281124</td>\n",
       "      <td>73.925957</td>\n",
       "      <td>70.472450</td>\n",
       "      <td>97.072754</td>\n",
       "      <td>75.760033</td>\n",
       "      <td>117.579727</td>\n",
       "      <td>68.135956</td>\n",
       "      <td>151.582520</td>\n",
       "      <td>78.740578</td>\n",
       "      <td>69.298355</td>\n",
       "      <td>73.927826</td>\n",
       "      <td>78.777573</td>\n",
       "      <td>52.791183</td>\n",
       "      <td>86.636612</td>\n",
       "      <td>57.440887</td>\n",
       "      <td>120.343063</td>\n",
       "      <td>38.775986</td>\n",
       "      <td>69.329178</td>\n",
       "      <td>99.330009</td>\n",
       "      <td>112.353134</td>\n",
       "      <td>61.508663</td>\n",
       "      <td>152.616333</td>\n",
       "      <td>40.317825</td>\n",
       "      <td>78.533997</td>\n",
       "    </tr>\n",
       "    <tr>\n",
       "      <th>4</th>\n",
       "      <td>67b598c8621b1f7135dfbc1c47fe2893.jpg</td>\n",
       "      <td>85.234634</td>\n",
       "      <td>74.825966</td>\n",
       "      <td>86.675003</td>\n",
       "      <td>27.886557</td>\n",
       "      <td>76.805016</td>\n",
       "      <td>76.943123</td>\n",
       "      <td>102.919914</td>\n",
       "      <td>63.845997</td>\n",
       "      <td>91.863091</td>\n",
       "      <td>74.284286</td>\n",
       "      <td>87.006554</td>\n",
       "      <td>60.016533</td>\n",
       "      <td>72.599251</td>\n",
       "      <td>114.055031</td>\n",
       "      <td>59.448631</td>\n",
       "      <td>28.250561</td>\n",
       "      <td>118.875572</td>\n",
       "      <td>67.559212</td>\n",
       "      <td>59.655693</td>\n",
       "      <td>74.651115</td>\n",
       "      <td>83.722244</td>\n",
       "      <td>118.498871</td>\n",
       "      <td>115.551292</td>\n",
       "      <td>51.472351</td>\n",
       "      <td>67.288338</td>\n",
       "      <td>77.206367</td>\n",
       "      <td>42.989067</td>\n",
       "      <td>35.914619</td>\n",
       "      <td>116.761566</td>\n",
       "      <td>55.367825</td>\n",
       "      <td>65.285843</td>\n",
       "      <td>27.659960</td>\n",
       "      <td>42.888515</td>\n",
       "      <td>118.700134</td>\n",
       "      <td>77.196335</td>\n",
       "      <td>27.191212</td>\n",
       "      <td>62.933899</td>\n",
       "      <td>74.147705</td>\n",
       "      <td>87.869331</td>\n",
       "      <td>59.784710</td>\n",
       "      <td>50.444717</td>\n",
       "      <td>71.885208</td>\n",
       "      <td>89.397888</td>\n",
       "      <td>28.331871</td>\n",
       "      <td>51.113289</td>\n",
       "      <td>71.569786</td>\n",
       "      <td>72.843948</td>\n",
       "      <td>120.068047</td>\n",
       "      <td>96.451881</td>\n",
       "      <td>73.408684</td>\n",
       "      <td>94.747818</td>\n",
       "      <td>72.892586</td>\n",
       "      <td>74.937187</td>\n",
       "      <td>150.218079</td>\n",
       "      <td>98.944626</td>\n",
       "      <td>59.703568</td>\n",
       "      <td>101.130173</td>\n",
       "      <td>138.807053</td>\n",
       "      <td>82.245071</td>\n",
       "      <td>149.048950</td>\n",
       "    </tr>\n",
       "  </tbody>\n",
       "</table>\n",
       "</div>"
      ],
      "text/plain": [
       "                              file_name  Point_M0_X  ...  Point_M29_X  Point_M29_Y\n",
       "0  c59b2834147079f3e34627f1e75656b1.jpg   65.392578  ...    49.164383    65.941910\n",
       "1  85629eb20fdbbb98d0ee20ed9f3ba233.jpg   86.936821  ...   129.843903   173.127487\n",
       "2  4df0124462ce32e0e8dd5d96a7d6496d.jpg  196.973755  ...   181.373795   165.174423\n",
       "3  fca085b03b834d9d94170e8f1453276e.jpg   54.758404  ...    40.317825    78.533997\n",
       "4  67b598c8621b1f7135dfbc1c47fe2893.jpg   85.234634  ...    82.245071   149.048950\n",
       "\n",
       "[5 rows x 61 columns]"
      ]
     },
     "execution_count": 108,
     "metadata": {
      "tags": []
     },
     "output_type": "execute_result"
    }
   ],
   "source": [
    "result2 = pd.read_csv(\"resnext_crop_1105_7epoch_val_float.csv\")\n",
    "result2.head()"
   ]
  },
  {
   "cell_type": "code",
   "execution_count": 0,
   "metadata": {
    "colab": {},
    "colab_type": "code",
    "collapsed": true,
    "id": "BvKoy6OfXy6t"
   },
   "outputs": [],
   "source": [
    "# усредняем\n",
    "result_union = pd.DataFrame(result['file_name'].copy())\n",
    "for column in result.columns:\n",
    "    if column!='file_name':\n",
    "        result_union[column]= result[column]/2 + result2[column]/2\n",
    "# округляем\n",
    "result_union = result_union.round(0)\n",
    "for column in result_union.columns:\n",
    "    if column!='file_name':\n",
    "        result_union[column]=result_union[column].astype(int) \n",
    "    \n",
    "result_union.to_csv('union_2_NN_float_baseline.csv',index=False)   "
   ]
  }
 ],
 "metadata": {
  "accelerator": "GPU",
  "colab": {
   "collapsed_sections": [],
   "machine_shape": "hm",
   "name": "made_cv_1_standart_final.ipynb",
   "provenance": []
  },
  "kernelspec": {
   "display_name": "Python 3",
   "language": "python",
   "name": "python3"
  },
  "language_info": {
   "codemirror_mode": {
    "name": "ipython",
    "version": 3
   },
   "file_extension": ".py",
   "mimetype": "text/x-python",
   "name": "python",
   "nbconvert_exporter": "python",
   "pygments_lexer": "ipython3",
   "version": "3.6.7"
  },
  "pycharm": {
   "stem_cell": {
    "cell_type": "raw",
    "metadata": {
     "collapsed": false
    },
    "source": []
   }
  },
  "widgets": {
   "application/vnd.jupyter.widget-state+json": {
    "2281d7487bc54e6db271920bbdf7610b": {
     "model_module": "@jupyter-widgets/base",
     "model_name": "LayoutModel",
     "state": {
      "_model_module": "@jupyter-widgets/base",
      "_model_module_version": "1.2.0",
      "_model_name": "LayoutModel",
      "_view_count": null,
      "_view_module": "@jupyter-widgets/base",
      "_view_module_version": "1.2.0",
      "_view_name": "LayoutView",
      "align_content": null,
      "align_items": null,
      "align_self": null,
      "border": null,
      "bottom": null,
      "display": null,
      "flex": null,
      "flex_flow": null,
      "grid_area": null,
      "grid_auto_columns": null,
      "grid_auto_flow": null,
      "grid_auto_rows": null,
      "grid_column": null,
      "grid_gap": null,
      "grid_row": null,
      "grid_template_areas": null,
      "grid_template_columns": null,
      "grid_template_rows": null,
      "height": null,
      "justify_content": null,
      "justify_items": null,
      "left": null,
      "margin": null,
      "max_height": null,
      "max_width": null,
      "min_height": null,
      "min_width": null,
      "object_fit": null,
      "object_position": null,
      "order": null,
      "overflow": null,
      "overflow_x": null,
      "overflow_y": null,
      "padding": null,
      "right": null,
      "top": null,
      "visibility": null,
      "width": null
     }
    },
    "2904a2fa9e2c4ee38fa1dbb35cfe3a4e": {
     "model_module": "@jupyter-widgets/base",
     "model_name": "LayoutModel",
     "state": {
      "_model_module": "@jupyter-widgets/base",
      "_model_module_version": "1.2.0",
      "_model_name": "LayoutModel",
      "_view_count": null,
      "_view_module": "@jupyter-widgets/base",
      "_view_module_version": "1.2.0",
      "_view_name": "LayoutView",
      "align_content": null,
      "align_items": null,
      "align_self": null,
      "border": null,
      "bottom": null,
      "display": null,
      "flex": null,
      "flex_flow": null,
      "grid_area": null,
      "grid_auto_columns": null,
      "grid_auto_flow": null,
      "grid_auto_rows": null,
      "grid_column": null,
      "grid_gap": null,
      "grid_row": null,
      "grid_template_areas": null,
      "grid_template_columns": null,
      "grid_template_rows": null,
      "height": null,
      "justify_content": null,
      "justify_items": null,
      "left": null,
      "margin": null,
      "max_height": null,
      "max_width": null,
      "min_height": null,
      "min_width": null,
      "object_fit": null,
      "object_position": null,
      "order": null,
      "overflow": null,
      "overflow_x": null,
      "overflow_y": null,
      "padding": null,
      "right": null,
      "top": null,
      "visibility": null,
      "width": null
     }
    },
    "2c91fe8d28554baa88d66dd5231c333b": {
     "model_module": "@jupyter-widgets/controls",
     "model_name": "ProgressStyleModel",
     "state": {
      "_model_module": "@jupyter-widgets/controls",
      "_model_module_version": "1.5.0",
      "_model_name": "ProgressStyleModel",
      "_view_count": null,
      "_view_module": "@jupyter-widgets/base",
      "_view_module_version": "1.2.0",
      "_view_name": "StyleView",
      "bar_color": null,
      "description_width": "initial"
     }
    },
    "3ac683b395044c47b27a9046f44fc11d": {
     "model_module": "@jupyter-widgets/controls",
     "model_name": "FloatProgressModel",
     "state": {
      "_dom_classes": [],
      "_model_module": "@jupyter-widgets/controls",
      "_model_module_version": "1.5.0",
      "_model_name": "FloatProgressModel",
      "_view_count": null,
      "_view_module": "@jupyter-widgets/controls",
      "_view_module_version": "1.5.0",
      "_view_name": "ProgressView",
      "bar_style": "success",
      "description": "100%",
      "description_tooltip": null,
      "layout": "IPY_MODEL_2281d7487bc54e6db271920bbdf7610b",
      "max": 100441675,
      "min": 0,
      "orientation": "horizontal",
      "style": "IPY_MODEL_2c91fe8d28554baa88d66dd5231c333b",
      "value": 100441675
     }
    },
    "3eea6fe71a094a5e8e7f07dc3335d7d3": {
     "model_module": "@jupyter-widgets/controls",
     "model_name": "HBoxModel",
     "state": {
      "_dom_classes": [],
      "_model_module": "@jupyter-widgets/controls",
      "_model_module_version": "1.5.0",
      "_model_name": "HBoxModel",
      "_view_count": null,
      "_view_module": "@jupyter-widgets/controls",
      "_view_module_version": "1.5.0",
      "_view_name": "HBoxView",
      "box_style": "",
      "children": [
       "IPY_MODEL_3ac683b395044c47b27a9046f44fc11d",
       "IPY_MODEL_95f89e81261d4e0090acb1603cd3b0ad"
      ],
      "layout": "IPY_MODEL_2904a2fa9e2c4ee38fa1dbb35cfe3a4e"
     }
    },
    "95f89e81261d4e0090acb1603cd3b0ad": {
     "model_module": "@jupyter-widgets/controls",
     "model_name": "HTMLModel",
     "state": {
      "_dom_classes": [],
      "_model_module": "@jupyter-widgets/controls",
      "_model_module_version": "1.5.0",
      "_model_name": "HTMLModel",
      "_view_count": null,
      "_view_module": "@jupyter-widgets/controls",
      "_view_module_version": "1.5.0",
      "_view_name": "HTMLView",
      "description": "",
      "description_tooltip": null,
      "layout": "IPY_MODEL_c06cf693c0994e0ca72b4c76f0f4d25c",
      "placeholder": "​",
      "style": "IPY_MODEL_984a64d0a15c48cc891fe4370cc705d2",
      "value": " 95.8M/95.8M [00:01&lt;00:00, 64.6MB/s]"
     }
    },
    "984a64d0a15c48cc891fe4370cc705d2": {
     "model_module": "@jupyter-widgets/controls",
     "model_name": "DescriptionStyleModel",
     "state": {
      "_model_module": "@jupyter-widgets/controls",
      "_model_module_version": "1.5.0",
      "_model_name": "DescriptionStyleModel",
      "_view_count": null,
      "_view_module": "@jupyter-widgets/base",
      "_view_module_version": "1.2.0",
      "_view_name": "StyleView",
      "description_width": ""
     }
    },
    "c06cf693c0994e0ca72b4c76f0f4d25c": {
     "model_module": "@jupyter-widgets/base",
     "model_name": "LayoutModel",
     "state": {
      "_model_module": "@jupyter-widgets/base",
      "_model_module_version": "1.2.0",
      "_model_name": "LayoutModel",
      "_view_count": null,
      "_view_module": "@jupyter-widgets/base",
      "_view_module_version": "1.2.0",
      "_view_name": "LayoutView",
      "align_content": null,
      "align_items": null,
      "align_self": null,
      "border": null,
      "bottom": null,
      "display": null,
      "flex": null,
      "flex_flow": null,
      "grid_area": null,
      "grid_auto_columns": null,
      "grid_auto_flow": null,
      "grid_auto_rows": null,
      "grid_column": null,
      "grid_gap": null,
      "grid_row": null,
      "grid_template_areas": null,
      "grid_template_columns": null,
      "grid_template_rows": null,
      "height": null,
      "justify_content": null,
      "justify_items": null,
      "left": null,
      "margin": null,
      "max_height": null,
      "max_width": null,
      "min_height": null,
      "min_width": null,
      "object_fit": null,
      "object_position": null,
      "order": null,
      "overflow": null,
      "overflow_x": null,
      "overflow_y": null,
      "padding": null,
      "right": null,
      "top": null,
      "visibility": null,
      "width": null
     }
    }
   }
  }
 },
 "nbformat": 4,
 "nbformat_minor": 1
}
